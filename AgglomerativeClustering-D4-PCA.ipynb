{
 "cells": [
  {
   "cell_type": "code",
   "execution_count": 1,
   "metadata": {},
   "outputs": [],
   "source": [
    "#import libraries\n",
    "import pandas as pd\n",
    "import numpy as np\n",
    "import random as rd\n",
    "import matplotlib.pyplot as plt\n",
    "%matplotlib inline"
   ]
  },
  {
   "cell_type": "code",
   "execution_count": 2,
   "metadata": {},
   "outputs": [
    {
     "name": "stdout",
     "output_type": "stream",
     "text": [
      "<class 'pandas.core.frame.DataFrame'>\n",
      "RangeIndex: 552 entries, 0 to 551\n",
      "Data columns (total 16 columns):\n",
      " #   Column                      Non-Null Count  Dtype  \n",
      "---  ------                      --------------  -----  \n",
      " 0   Unnamed: 0                  552 non-null    int64  \n",
      " 1   UserID                      552 non-null    int64  \n",
      " 2   UserCreatedAt               552 non-null    int64  \n",
      " 3   UserDescriptionLength       552 non-null    int64  \n",
      " 4   UserFollowersCount          552 non-null    int64  \n",
      " 5   UserFriendsCount            552 non-null    float64\n",
      " 6   UserLocation                552 non-null    int64  \n",
      " 7   AvgHashtag                  552 non-null    float64\n",
      " 8   AvgURLCount                 552 non-null    float64\n",
      " 9   AvgMention                  552 non-null    float64\n",
      " 10  AvgRetweet                  552 non-null    float64\n",
      " 11  AvgFavCount                 552 non-null    float64\n",
      " 12  TweetCount                  552 non-null    int64  \n",
      " 13  SpammerOrNot                552 non-null    int64  \n",
      " 14  Current_Time                552 non-null    int64  \n",
      " 15  friends_to_followers_ratio  552 non-null    float64\n",
      "dtypes: float64(7), int64(9)\n",
      "memory usage: 69.1 KB\n"
     ]
    }
   ],
   "source": [
    "#import data\n",
    "data = pd.read_csv('n_Total_datal-7.csv')\n",
    "data.info()"
   ]
  },
  {
   "cell_type": "code",
   "execution_count": 3,
   "metadata": {},
   "outputs": [],
   "source": [
    "columns=data.columns\n",
    "fake = data['SpammerOrNot'] \n",
    "data.drop(columns= ['SpammerOrNot', 'Unnamed: 0', \n",
    "    #'AvgURLCount', 'AvgMention', 'TweetCount', 'Current_Time'\n",
    "                   ], inplace=True)\n",
    "columns=data.columns"
   ]
  },
  {
   "cell_type": "code",
   "execution_count": 4,
   "metadata": {},
   "outputs": [
    {
     "data": {
      "text/html": [
       "<div>\n",
       "<style scoped>\n",
       "    .dataframe tbody tr th:only-of-type {\n",
       "        vertical-align: middle;\n",
       "    }\n",
       "\n",
       "    .dataframe tbody tr th {\n",
       "        vertical-align: top;\n",
       "    }\n",
       "\n",
       "    .dataframe thead th {\n",
       "        text-align: right;\n",
       "    }\n",
       "</style>\n",
       "<table border=\"1\" class=\"dataframe\">\n",
       "  <thead>\n",
       "    <tr style=\"text-align: right;\">\n",
       "      <th></th>\n",
       "      <th>UserID</th>\n",
       "      <th>UserCreatedAt</th>\n",
       "      <th>UserDescriptionLength</th>\n",
       "      <th>UserFollowersCount</th>\n",
       "      <th>UserFriendsCount</th>\n",
       "      <th>UserLocation</th>\n",
       "      <th>AvgHashtag</th>\n",
       "      <th>AvgURLCount</th>\n",
       "      <th>AvgMention</th>\n",
       "      <th>AvgRetweet</th>\n",
       "      <th>AvgFavCount</th>\n",
       "      <th>TweetCount</th>\n",
       "      <th>Current_Time</th>\n",
       "      <th>friends_to_followers_ratio</th>\n",
       "    </tr>\n",
       "  </thead>\n",
       "  <tbody>\n",
       "    <tr>\n",
       "      <th>0</th>\n",
       "      <td>613357772</td>\n",
       "      <td>88</td>\n",
       "      <td>145</td>\n",
       "      <td>62144</td>\n",
       "      <td>297.0</td>\n",
       "      <td>45</td>\n",
       "      <td>0.466667</td>\n",
       "      <td>0.266667</td>\n",
       "      <td>1.166667</td>\n",
       "      <td>9.700000</td>\n",
       "      <td>11.700000</td>\n",
       "      <td>21157</td>\n",
       "      <td>0</td>\n",
       "      <td>0.004779</td>\n",
       "    </tr>\n",
       "    <tr>\n",
       "      <th>1</th>\n",
       "      <td>284920800</td>\n",
       "      <td>57</td>\n",
       "      <td>75</td>\n",
       "      <td>109825</td>\n",
       "      <td>161.0</td>\n",
       "      <td>86</td>\n",
       "      <td>0.600000</td>\n",
       "      <td>0.933333</td>\n",
       "      <td>0.333333</td>\n",
       "      <td>5.366667</td>\n",
       "      <td>6.366667</td>\n",
       "      <td>78784</td>\n",
       "      <td>0</td>\n",
       "      <td>0.001466</td>\n",
       "    </tr>\n",
       "    <tr>\n",
       "      <th>2</th>\n",
       "      <td>1943418931</td>\n",
       "      <td>153</td>\n",
       "      <td>102</td>\n",
       "      <td>237690</td>\n",
       "      <td>156.0</td>\n",
       "      <td>44</td>\n",
       "      <td>2.300000</td>\n",
       "      <td>1.000000</td>\n",
       "      <td>0.000000</td>\n",
       "      <td>1.700000</td>\n",
       "      <td>10.966667</td>\n",
       "      <td>85765</td>\n",
       "      <td>0</td>\n",
       "      <td>0.000656</td>\n",
       "    </tr>\n",
       "  </tbody>\n",
       "</table>\n",
       "</div>"
      ],
      "text/plain": [
       "       UserID  UserCreatedAt  UserDescriptionLength  UserFollowersCount  \\\n",
       "0   613357772             88                    145               62144   \n",
       "1   284920800             57                     75              109825   \n",
       "2  1943418931            153                    102              237690   \n",
       "\n",
       "   UserFriendsCount  UserLocation  AvgHashtag  AvgURLCount  AvgMention  \\\n",
       "0             297.0            45    0.466667     0.266667    1.166667   \n",
       "1             161.0            86    0.600000     0.933333    0.333333   \n",
       "2             156.0            44    2.300000     1.000000    0.000000   \n",
       "\n",
       "   AvgRetweet  AvgFavCount  TweetCount  Current_Time  \\\n",
       "0    9.700000    11.700000       21157             0   \n",
       "1    5.366667     6.366667       78784             0   \n",
       "2    1.700000    10.966667       85765             0   \n",
       "\n",
       "   friends_to_followers_ratio  \n",
       "0                    0.004779  \n",
       "1                    0.001466  \n",
       "2                    0.000656  "
      ]
     },
     "execution_count": 4,
     "metadata": {},
     "output_type": "execute_result"
    }
   ],
   "source": [
    "data.head(3)"
   ]
  },
  {
   "cell_type": "markdown",
   "metadata": {},
   "source": [
    "# PCA"
   ]
  },
  {
   "cell_type": "markdown",
   "metadata": {},
   "source": [
    "https://medium.com/@dmitriy.kavyazin/principal-component-analysis-and-k-means-clustering-to-visualize-a-high-dimensional-dataset-577b2a7a5fe2"
   ]
  },
  {
   "cell_type": "code",
   "execution_count": 5,
   "metadata": {},
   "outputs": [
    {
     "data": {
      "image/png": "[encoded data removed]",
      "text/plain": [
       "<Figure size 432x288 with 1 Axes>"
      ]
     },
     "metadata": {
      "image/png": {
       "height": 261,
       "width": 398
      },
      "needs_background": "light"
     },
     "output_type": "display_data"
    }
   ],
   "source": [
    "# Imports\n",
    "from sklearn.decomposition import PCA\n",
    "from sklearn.preprocessing import StandardScaler\n",
    "%config InlineBackend.figure_format='retina'\n",
    "# Standardize the data to have a mean of ~0 and a variance of 1\n",
    "X_std = StandardScaler().fit_transform(data)\n",
    "# Create a PCA instance: pca\n",
    "pca = PCA(n_components=5)\n",
    "principalComponents = pca.fit_transform(X_std)\n",
    "# Plot the explained variances\n",
    "features = range(pca.n_components_)\n",
    "plt.bar(features, pca.explained_variance_ratio_, color='black')\n",
    "plt.xlabel('PCA features')\n",
    "plt.ylabel('variance %')\n",
    "plt.xticks(features)\n",
    "# Save components to a DataFrame\n",
    "PCA_components = pd.DataFrame(principalComponents)"
   ]
  },
  {
   "cell_type": "code",
   "execution_count": 6,
   "metadata": {},
   "outputs": [],
   "source": [
    "pca_data=PCA_components.iloc[:,:1]"
   ]
  },
  {
   "cell_type": "markdown",
   "metadata": {},
   "source": [
    "# data visualization"
   ]
  },
  {
   "cell_type": "code",
   "execution_count": 7,
   "metadata": {},
   "outputs": [],
   "source": [
    "#pca_data.columns=['PC1','PC2','PC3','PC4','PC5','PC6','PC7','PC8','PC9','PC10', 'PC11', 'PC12', 'PC13','PC14', 'PC15','PC16','PC17']\n",
    "pca_data.columns=['PC1']"
   ]
  },
  {
   "cell_type": "markdown",
   "metadata": {},
   "source": [
    "Iris Dataset Visualization and Machine Learning\n",
    "\n",
    "https://www.kaggle.com/xuhewen/iris-dataset-visualization-and-machine-learning"
   ]
  },
  {
   "cell_type": "code",
   "execution_count": 8,
   "metadata": {},
   "outputs": [
    {
     "data": {
      "text/plain": [
       "Text(0.5, 1.0, 'D4')"
      ]
     },
     "execution_count": 8,
     "metadata": {},
     "output_type": "execute_result"
    },
    {
     "data": {
      "image/png": "[encoded data removed]",
      "text/plain": [
       "<Figure size 432x288 with 1 Axes>"
      ]
     },
     "metadata": {
      "image/png": {
       "height": 277,
       "width": 384
      },
      "needs_background": "light"
     },
     "output_type": "display_data"
    }
   ],
   "source": [
    "ax = pca_data[fake==0].plot.scatter(x='PC1', y='PC1', color='red', label='real')\n",
    "pca_data[fake==1].plot.scatter(x='PC1', y='PC1', color='blue', label='fake', ax=ax)\n",
    "ax.set_title(\"D4\")"
   ]
  },
  {
   "cell_type": "markdown",
   "metadata": {},
   "source": [
    "# Implementing Agglomerative Clustering Clustering in Python"
   ]
  },
  {
   "cell_type": "markdown",
   "metadata": {},
   "source": [
    "https://scikit-learn.org/stable/modules/generated/sklearn.cluster.AgglomerativeClustering.html#sklearn.cluster.AgglomerativeClustering"
   ]
  },
  {
   "cell_type": "code",
   "execution_count": 9,
   "metadata": {},
   "outputs": [],
   "source": [
    "from sklearn.cluster import AgglomerativeClustering\n",
    "clustering = AgglomerativeClustering(n_clusters=2).fit(pca_data)\n",
    "pred = clustering.labels_"
   ]
  },
  {
   "cell_type": "code",
   "execution_count": 10,
   "metadata": {},
   "outputs": [],
   "source": [
    "labels_true=fake\n",
    "labels_pred=pred\n",
    "labels = pred\n",
    "X=pca_data\n",
    "y=fake"
   ]
  },
  {
   "cell_type": "code",
   "execution_count": 11,
   "metadata": {},
   "outputs": [
    {
     "data": {
      "text/plain": [
       "array([[212, 163],\n",
       "       [ 88,  89]])"
      ]
     },
     "execution_count": 11,
     "metadata": {},
     "output_type": "execute_result"
    }
   ],
   "source": [
    "from sklearn.metrics.cluster import contingency_matrix\n",
    "contingency_matrix(labels_true, labels_pred)"
   ]
  },
  {
   "cell_type": "code",
   "execution_count": 12,
   "metadata": {
    "scrolled": true
   },
   "outputs": [
    {
     "name": "stdout",
     "output_type": "stream",
     "text": [
      "Adjusted Rand index: 0.005676824969110309\n",
      "Mutual Information based scores: 0.0017141413756592983\n",
      "Homogeneity: 0.0032449531610608037\n",
      "Completeness: 0.002953100085181478\n",
      "V-measure: 0.003092155254441639\n",
      "Fowlkes-Mallows scores: 0.5350110333372032\n",
      "Silhouette Coefficient: 0.6303847167538513\n"
     ]
    }
   ],
   "source": [
    "from sklearn import metrics\n",
    "from sklearn.metrics import pairwise_distances\n",
    "\n",
    "print(\"Adjusted Rand index:\", \n",
    "      metrics.adjusted_rand_score(labels_true, labels_pred))\n",
    "print(\"Mutual Information based scores:\", \n",
    "      metrics.adjusted_mutual_info_score(labels_true, labels_pred))\n",
    "print(\"Homogeneity:\", \n",
    "      metrics.homogeneity_score(labels_true, labels_pred))\n",
    "print(\"Completeness:\", \n",
    "      metrics.completeness_score(labels_true, labels_pred))\n",
    "print(\"V-measure:\",\n",
    "      metrics.v_measure_score(labels_true, labels_pred))\n",
    "print(\"Fowlkes-Mallows scores:\",\n",
    "      metrics.fowlkes_mallows_score(labels_true, labels_pred))\n",
    "\n",
    "print(\"Silhouette Coefficient:\",\n",
    "      metrics.silhouette_score(X, labels, metric='euclidean'))"
   ]
  },
  {
   "cell_type": "markdown",
   "metadata": {},
   "source": [
    "Functions to Plot KMeans, Hierarchical and DBSCAN Clustering\n",
    "\n",
    "https://medium.com/@plog397/functions-to-plot-kmeans-hierarchical-and-dbscan-clustering-c4146ed69744"
   ]
  },
  {
   "cell_type": "code",
   "execution_count": 13,
   "metadata": {},
   "outputs": [
    {
     "data": {
      "text/plain": [
       "Text(0.5, 1.0, 'Agglomerative Clustering-D4')"
      ]
     },
     "execution_count": 13,
     "metadata": {},
     "output_type": "execute_result"
    },
    {
     "data": {
      "image/png": "[encoded data removed]",
      "text/plain": [
       "<Figure size 432x288 with 1 Axes>"
      ]
     },
     "metadata": {
      "image/png": {
       "height": 263,
       "width": 370
      },
      "needs_background": "light"
     },
     "output_type": "display_data"
    }
   ],
   "source": [
    "plt.scatter(x=pca_data.PC1, y=pca_data.PC1,c=pred, cmap='bwr')\n",
    "plt.title(\"Agglomerative Clustering-D4\")"
   ]
  },
  {
   "cell_type": "code",
   "execution_count": null,
   "metadata": {},
   "outputs": [],
   "source": []
  }
 ],
 "metadata": {
  "kernelspec": {
   "display_name": "Python 3",
   "language": "python",
   "name": "python3"
  },
  "language_info": {
   "codemirror_mode": {
    "name": "ipython",
    "version": 3
   },
   "file_extension": ".py",
   "mimetype": "text/x-python",
   "name": "python",
   "nbconvert_exporter": "python",
   "pygments_lexer": "ipython3",
   "version": "3.7.9"
  }
 },
 "nbformat": 4,
 "nbformat_minor": 4
}
