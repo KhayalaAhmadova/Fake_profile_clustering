{
 "cells": [
  {
   "cell_type": "markdown",
   "metadata": {},
   "source": [
    "# Users-fusers data"
   ]
  },
  {
   "cell_type": "markdown",
   "metadata": {},
   "source": [
    "## Data1:\n",
    "\n",
    "https://github.com/harshitkgupta/Fake-Profile-Detection-using-ML/tree/master/data"
   ]
  },
  {
   "cell_type": "code",
   "execution_count": 1,
   "metadata": {},
   "outputs": [],
   "source": [
    "import pandas as pd\n",
    "import numpy as np\n",
    "users = pd.read_csv('users.csv')\n",
    "fusers = pd.read_csv('fusers.csv')\n",
    "D1=pd.concat([users,fusers])   \n",
    "y=len(users)*[0] + len(fusers)*[1]\n",
    "D1['fake'] = y\n",
    "D1.to_csv(r'users-fusers.csv', index = False)"
   ]
  },
  {
   "cell_type": "code",
   "execution_count": 2,
   "metadata": {},
   "outputs": [],
   "source": [
    "D1=pd.read_csv('users-fusers.csv')\n",
    "D1 = pd.DataFrame(D1)"
   ]
  },
  {
   "cell_type": "code",
   "execution_count": 3,
   "metadata": {},
   "outputs": [
    {
     "name": "stdout",
     "output_type": "stream",
     "text": [
      "<class 'pandas.core.frame.DataFrame'>\n",
      "RangeIndex: 2818 entries, 0 to 2817\n",
      "Data columns (total 35 columns):\n",
      " #   Column                              Non-Null Count  Dtype  \n",
      "---  ------                              --------------  -----  \n",
      " 0   id                                  2818 non-null   int64  \n",
      " 1   name                                2818 non-null   object \n",
      " 2   screen_name                         2818 non-null   object \n",
      " 3   statuses_count                      2818 non-null   int64  \n",
      " 4   followers_count                     2818 non-null   int64  \n",
      " 5   friends_count                       2818 non-null   int64  \n",
      " 6   favourites_count                    2818 non-null   int64  \n",
      " 7   listed_count                        2818 non-null   int64  \n",
      " 8   created_at                          2818 non-null   object \n",
      " 9   url                                 463 non-null    object \n",
      " 10  lang                                2818 non-null   object \n",
      " 11  time_zone                           1069 non-null   object \n",
      " 12  location                            2271 non-null   object \n",
      " 13  default_profile                     1728 non-null   float64\n",
      " 14  default_profile_image               8 non-null      float64\n",
      " 15  geo_enabled                         721 non-null    float64\n",
      " 16  profile_image_url                   2818 non-null   object \n",
      " 17  profile_banner_url                  987 non-null    object \n",
      " 18  profile_use_background_image        2760 non-null   float64\n",
      " 19  profile_background_image_url_https  2818 non-null   object \n",
      " 20  profile_text_color                  2818 non-null   object \n",
      " 21  profile_image_url_https             2818 non-null   object \n",
      " 22  profile_sidebar_border_color        2818 non-null   object \n",
      " 23  profile_background_tile             489 non-null    float64\n",
      " 24  profile_sidebar_fill_color          2818 non-null   object \n",
      " 25  profile_background_image_url        2818 non-null   object \n",
      " 26  profile_background_color            2818 non-null   object \n",
      " 27  profile_link_color                  2818 non-null   object \n",
      " 28  utc_offset                          1069 non-null   float64\n",
      " 29  protected                           0 non-null      float64\n",
      " 30  verified                            0 non-null      float64\n",
      " 31  description                         2547 non-null   object \n",
      " 32  updated                             2818 non-null   object \n",
      " 33  dataset                             2818 non-null   object \n",
      " 34  fake                                2818 non-null   int64  \n",
      "dtypes: float64(8), int64(7), object(20)\n",
      "memory usage: 770.7+ KB\n"
     ]
    }
   ],
   "source": [
    "D1.info()"
   ]
  },
  {
   "cell_type": "code",
   "execution_count": 4,
   "metadata": {},
   "outputs": [],
   "source": [
    "D1.drop(columns= ['default_profile_image', 'protected', 'verified', 'utc_offset', 'updated', 'profile_background_tile'], inplace=True)"
   ]
  },
  {
   "cell_type": "markdown",
   "metadata": {},
   "source": [
    "https://anaconda.org/joeld9315/gender-guesser\n",
    "\n",
    "https://github.com/lead-ratings/gender-guesser"
   ]
  },
  {
   "cell_type": "code",
   "execution_count": 5,
   "metadata": {},
   "outputs": [],
   "source": [
    "import gender_guesser.detector as gender\n",
    "d = gender.Detector()\n",
    "first_name= D1['name'].str.split(' ').str.get(0)\n",
    "gender1= first_name.apply(d.get_gender)\n",
    "gender_dict={'female': -2, 'mostly_female': -1,\n",
    "             'unknown':0,'mostly_male':1, 'male': 2}\n",
    "gender_code = gender1.map(gender_dict)\n",
    "D1['gender_code']=gender_code"
   ]
  },
  {
   "cell_type": "markdown",
   "metadata": {},
   "source": [
    "https://www.geeksforgeeks.org/python-pandas-series-str-len/\n",
    "\n",
    "https://machinelearningmastery.com/handle-missing-data-python/"
   ]
  },
  {
   "cell_type": "code",
   "execution_count": 6,
   "metadata": {},
   "outputs": [],
   "source": [
    "D1[\"description_length\"]= D1[\"description\"].str.len() "
   ]
  },
  {
   "cell_type": "markdown",
   "metadata": {},
   "source": [
    "https://stackoverflow.com/questions/3418050/month-name-to-month-number-and-vice-versa-in-python/21938128"
   ]
  },
  {
   "cell_type": "markdown",
   "metadata": {},
   "source": [
    "https://stackoverflow.com/questions/15891038/change-data-type-of-columns-in-pandas"
   ]
  },
  {
   "cell_type": "code",
   "execution_count": 7,
   "metadata": {},
   "outputs": [],
   "source": [
    "for i in range (2818):\n",
    "    D1['time_zone'].fillna('a', inplace = True) \n",
    "    D1['location'].fillna('a', inplace = True) "
   ]
  },
  {
   "cell_type": "raw",
   "metadata": {},
   "source": [
    "# Replacing \n",
    "def code(j):\n",
    "    l_list = list(enumerate(np.unique(D1[i])))   \n",
    "    l_dict = { name : i for i, name in l_list }             \n",
    "    D1.loc[:,i] = D1[i].map( lambda D1: l_dict[D1]).astype(int) \n",
    "cols = ['created_at', 'lang', 'time_zone', 'location']\n",
    "for i in NAN:\n",
    "    code(i)"
   ]
  },
  {
   "cell_type": "code",
   "execution_count": 8,
   "metadata": {},
   "outputs": [],
   "source": [
    "l_list = list(enumerate(np.unique(D1['created_at'])))   \n",
    "l_dict = { name : i for i, name in l_list }             \n",
    "D1.loc[:,'created_at'] = D1['created_at'].map( lambda D1: l_dict[D1]).astype(int) "
   ]
  },
  {
   "cell_type": "code",
   "execution_count": 9,
   "metadata": {},
   "outputs": [],
   "source": [
    "l_list = list(enumerate(np.unique(D1['lang'])))   \n",
    "l_dict = { name : i for i, name in l_list }             \n",
    "D1.loc[:,'lang'] = D1['lang'].map( lambda D1: l_dict[D1]).astype(int) "
   ]
  },
  {
   "cell_type": "code",
   "execution_count": 10,
   "metadata": {},
   "outputs": [],
   "source": [
    "l_list = list(enumerate(np.unique(D1['time_zone'].astype(str))))   \n",
    "l_dict = { name : i for i, name in l_list }             \n",
    "D1.loc[:,'time_zone'] = D1['time_zone'].map( lambda D1: l_dict[D1]).astype(int) "
   ]
  },
  {
   "cell_type": "code",
   "execution_count": 11,
   "metadata": {},
   "outputs": [],
   "source": [
    "for i in range (2818):\n",
    "    D1['location'].fillna('a', inplace = True) "
   ]
  },
  {
   "cell_type": "code",
   "execution_count": 12,
   "metadata": {},
   "outputs": [],
   "source": [
    "l_list = list(enumerate(np.unique(D1['location'].astype(str))))   \n",
    "l_dict = { name : i for i, name in l_list }             \n",
    "D1.loc[:,'location'] = D1['location'].map( lambda D1: l_dict[D1])"
   ]
  },
  {
   "cell_type": "code",
   "execution_count": 13,
   "metadata": {},
   "outputs": [],
   "source": [
    "# Replacing \n",
    "def replace(j):\n",
    "    D1[j].fillna(0, inplace = True) \n",
    "    a=[]\n",
    "    for i in D1[j]:\n",
    "        if i!=0:\n",
    "            a.append(int(1))\n",
    "        else:\n",
    "            a.append(int(0))\n",
    "    D1[j] = a\n",
    "NAN = ['url', 'default_profile', 'geo_enabled', 'profile_banner_url', 'profile_use_background_image']\n",
    "for i in NAN:\n",
    "    replace(i)"
   ]
  },
  {
   "cell_type": "markdown",
   "metadata": {},
   "source": [
    "https://pbpython.com/selecting-columns.html"
   ]
  },
  {
   "cell_type": "markdown",
   "metadata": {},
   "source": [
    "https://www.geeksforgeeks.org/python-pandas-dataframe-dtypes/"
   ]
  },
  {
   "cell_type": "markdown",
   "metadata": {},
   "source": [
    "https://stackoverflow.com/questions/14661701/how-to-drop-a-list-of-rows-from-pandas-dataframe"
   ]
  },
  {
   "cell_type": "code",
   "execution_count": 14,
   "metadata": {},
   "outputs": [
    {
     "name": "stdout",
     "output_type": "stream",
     "text": [
      "followers:  63 \n",
      "friends:  2\n"
     ]
    }
   ],
   "source": [
    "followers=0\n",
    "friends=0\n",
    "friends1 = []\n",
    "for i in range(2818):\n",
    "    if D1['followers_count'][i] ==0:\n",
    "        followers+=1\n",
    "    if D1['friends_count'][i] ==0:\n",
    "        friends+=1\n",
    "        friends1.append(i)\n",
    "print('followers: ', followers, \n",
    "      '\\nfriends: ', friends)"
   ]
  },
  {
   "cell_type": "markdown",
   "metadata": {},
   "source": [
    "https://www.geeksforgeeks.org/reset-index-in-pandas-dataframe/"
   ]
  },
  {
   "cell_type": "code",
   "execution_count": 15,
   "metadata": {},
   "outputs": [],
   "source": [
    "D1 = D1.drop(D1.index[[1474, 1767]])\n",
    "D1.reset_index(inplace = True) "
   ]
  },
  {
   "cell_type": "code",
   "execution_count": 16,
   "metadata": {},
   "outputs": [],
   "source": [
    "followers_to_friends = []\n",
    "followers_to_statuses = []\n",
    "for i in range (2816):\n",
    "    followers_to_friends.append(\n",
    "        float(D1['followers_count'][i]/D1['friends_count'][i]))\n",
    "D1['followers_to_friends_ratio'] = followers_to_friends "
   ]
  },
  {
   "cell_type": "code",
   "execution_count": 17,
   "metadata": {},
   "outputs": [],
   "source": [
    "s=0\n",
    "ctu=[]\n",
    "for i in D1.columns:\n",
    "    if D1[i].dtype!=object:\n",
    "        ctu.append(s)\n",
    "    s+=1\n",
    "D1_numerical=D1.iloc[:, ctu]"
   ]
  },
  {
   "cell_type": "code",
   "execution_count": 18,
   "metadata": {},
   "outputs": [
    {
     "name": "stderr",
     "output_type": "stream",
     "text": [
      "D:\\Miniconda\\Miniconda2\\lib\\site-packages\\pandas\\core\\frame.py:4170: SettingWithCopyWarning: \n",
      "A value is trying to be set on a copy of a slice from a DataFrame\n",
      "\n",
      "See the caveats in the documentation: https://pandas.pydata.org/pandas-docs/stable/user_guide/indexing.html#returning-a-view-versus-a-copy\n",
      "  errors=errors,\n"
     ]
    }
   ],
   "source": [
    "D1_numerical.drop\n",
    "D1_numerical.drop(['index'], axis = 1, inplace=True)\n",
    "columns = D1_numerical.columns"
   ]
  },
  {
   "cell_type": "markdown",
   "metadata": {},
   "source": [
    "https://stackoverflow.com/questions/43772362/how-to-print-a-specific-row-of-a-pandas-dataframe"
   ]
  },
  {
   "cell_type": "markdown",
   "metadata": {},
   "source": [
    "https://stackoverflow.com/questions/13851535/delete-rows-from-a-pandas-dataframe-based-on-a-conditional-expression-involving"
   ]
  },
  {
   "cell_type": "code",
   "execution_count": 19,
   "metadata": {},
   "outputs": [],
   "source": [
    "# Nearest neighbors imputation\n",
    "from sklearn.impute import KNNImputer\n",
    "imputer = KNNImputer(n_neighbors=2, weights=\"uniform\")\n",
    "D1_numerical = pd.DataFrame(imputer.fit_transform(D1_numerical)) \n",
    "D1_numerical.columns = columns"
   ]
  },
  {
   "cell_type": "code",
   "execution_count": 20,
   "metadata": {
    "scrolled": true
   },
   "outputs": [
    {
     "name": "stdout",
     "output_type": "stream",
     "text": [
      "<class 'pandas.core.frame.DataFrame'>\n",
      "RangeIndex: 2816 entries, 0 to 2815\n",
      "Data columns (total 19 columns):\n",
      " #   Column                        Non-Null Count  Dtype  \n",
      "---  ------                        --------------  -----  \n",
      " 0   id                            2816 non-null   float64\n",
      " 1   statuses_count                2816 non-null   float64\n",
      " 2   followers_count               2816 non-null   float64\n",
      " 3   friends_count                 2816 non-null   float64\n",
      " 4   favourites_count              2816 non-null   float64\n",
      " 5   listed_count                  2816 non-null   float64\n",
      " 6   created_at                    2816 non-null   float64\n",
      " 7   url                           2816 non-null   float64\n",
      " 8   lang                          2816 non-null   float64\n",
      " 9   time_zone                     2816 non-null   float64\n",
      " 10  location                      2816 non-null   float64\n",
      " 11  default_profile               2816 non-null   float64\n",
      " 12  geo_enabled                   2816 non-null   float64\n",
      " 13  profile_banner_url            2816 non-null   float64\n",
      " 14  profile_use_background_image  2816 non-null   float64\n",
      " 15  fake                          2816 non-null   float64\n",
      " 16  gender_code                   2816 non-null   float64\n",
      " 17  description_length            2816 non-null   float64\n",
      " 18  followers_to_friends_ratio    2816 non-null   float64\n",
      "dtypes: float64(19)\n",
      "memory usage: 418.1 KB\n"
     ]
    }
   ],
   "source": [
    "D1_numerical.info()"
   ]
  },
  {
   "cell_type": "code",
   "execution_count": 21,
   "metadata": {
    "scrolled": true
   },
   "outputs": [
    {
     "data": {
      "text/html": [
       "<div>\n",
       "<style scoped>\n",
       "    .dataframe tbody tr th:only-of-type {\n",
       "        vertical-align: middle;\n",
       "    }\n",
       "\n",
       "    .dataframe tbody tr th {\n",
       "        vertical-align: top;\n",
       "    }\n",
       "\n",
       "    .dataframe thead th {\n",
       "        text-align: right;\n",
       "    }\n",
       "</style>\n",
       "<table border=\"1\" class=\"dataframe\">\n",
       "  <thead>\n",
       "    <tr style=\"text-align: right;\">\n",
       "      <th></th>\n",
       "      <th>id</th>\n",
       "      <th>statuses_count</th>\n",
       "      <th>followers_count</th>\n",
       "      <th>friends_count</th>\n",
       "      <th>favourites_count</th>\n",
       "      <th>listed_count</th>\n",
       "      <th>created_at</th>\n",
       "      <th>url</th>\n",
       "      <th>lang</th>\n",
       "      <th>time_zone</th>\n",
       "      <th>location</th>\n",
       "      <th>default_profile</th>\n",
       "      <th>geo_enabled</th>\n",
       "      <th>profile_banner_url</th>\n",
       "      <th>profile_use_background_image</th>\n",
       "      <th>fake</th>\n",
       "      <th>gender_code</th>\n",
       "      <th>description_length</th>\n",
       "      <th>followers_to_friends_ratio</th>\n",
       "    </tr>\n",
       "  </thead>\n",
       "  <tbody>\n",
       "    <tr>\n",
       "      <th>0</th>\n",
       "      <td>3610511.0</td>\n",
       "      <td>20370.0</td>\n",
       "      <td>5470.0</td>\n",
       "      <td>2385.0</td>\n",
       "      <td>145.0</td>\n",
       "      <td>52.0</td>\n",
       "      <td>0.0</td>\n",
       "      <td>1.0</td>\n",
       "      <td>5.0</td>\n",
       "      <td>28.0</td>\n",
       "      <td>1005.0</td>\n",
       "      <td>0.0</td>\n",
       "      <td>0.0</td>\n",
       "      <td>1.0</td>\n",
       "      <td>1.0</td>\n",
       "      <td>0.0</td>\n",
       "      <td>2.0</td>\n",
       "      <td>151.0</td>\n",
       "      <td>2.293501</td>\n",
       "    </tr>\n",
       "    <tr>\n",
       "      <th>1</th>\n",
       "      <td>5656162.0</td>\n",
       "      <td>3131.0</td>\n",
       "      <td>506.0</td>\n",
       "      <td>381.0</td>\n",
       "      <td>9.0</td>\n",
       "      <td>40.0</td>\n",
       "      <td>322.0</td>\n",
       "      <td>1.0</td>\n",
       "      <td>1.0</td>\n",
       "      <td>28.0</td>\n",
       "      <td>1021.0</td>\n",
       "      <td>0.0</td>\n",
       "      <td>0.0</td>\n",
       "      <td>0.0</td>\n",
       "      <td>1.0</td>\n",
       "      <td>0.0</td>\n",
       "      <td>-2.0</td>\n",
       "      <td>104.0</td>\n",
       "      <td>1.328084</td>\n",
       "    </tr>\n",
       "    <tr>\n",
       "      <th>2</th>\n",
       "      <td>5682702.0</td>\n",
       "      <td>4024.0</td>\n",
       "      <td>264.0</td>\n",
       "      <td>87.0</td>\n",
       "      <td>323.0</td>\n",
       "      <td>16.0</td>\n",
       "      <td>2423.0</td>\n",
       "      <td>1.0</td>\n",
       "      <td>1.0</td>\n",
       "      <td>28.0</td>\n",
       "      <td>551.0</td>\n",
       "      <td>0.0</td>\n",
       "      <td>0.0</td>\n",
       "      <td>1.0</td>\n",
       "      <td>1.0</td>\n",
       "      <td>0.0</td>\n",
       "      <td>0.0</td>\n",
       "      <td>22.0</td>\n",
       "      <td>3.034483</td>\n",
       "    </tr>\n",
       "    <tr>\n",
       "      <th>3</th>\n",
       "      <td>6067292.0</td>\n",
       "      <td>40586.0</td>\n",
       "      <td>640.0</td>\n",
       "      <td>622.0</td>\n",
       "      <td>1118.0</td>\n",
       "      <td>32.0</td>\n",
       "      <td>2435.0</td>\n",
       "      <td>1.0</td>\n",
       "      <td>1.0</td>\n",
       "      <td>28.0</td>\n",
       "      <td>1389.0</td>\n",
       "      <td>0.0</td>\n",
       "      <td>1.0</td>\n",
       "      <td>1.0</td>\n",
       "      <td>1.0</td>\n",
       "      <td>0.0</td>\n",
       "      <td>0.0</td>\n",
       "      <td>36.0</td>\n",
       "      <td>1.028939</td>\n",
       "    </tr>\n",
       "    <tr>\n",
       "      <th>4</th>\n",
       "      <td>6015122.0</td>\n",
       "      <td>2016.0</td>\n",
       "      <td>62.0</td>\n",
       "      <td>64.0</td>\n",
       "      <td>13.0</td>\n",
       "      <td>0.0</td>\n",
       "      <td>1883.0</td>\n",
       "      <td>1.0</td>\n",
       "      <td>5.0</td>\n",
       "      <td>28.0</td>\n",
       "      <td>1459.0</td>\n",
       "      <td>0.0</td>\n",
       "      <td>1.0</td>\n",
       "      <td>0.0</td>\n",
       "      <td>1.0</td>\n",
       "      <td>0.0</td>\n",
       "      <td>2.0</td>\n",
       "      <td>14.0</td>\n",
       "      <td>0.968750</td>\n",
       "    </tr>\n",
       "  </tbody>\n",
       "</table>\n",
       "</div>"
      ],
      "text/plain": [
       "          id  statuses_count  followers_count  friends_count  \\\n",
       "0  3610511.0         20370.0           5470.0         2385.0   \n",
       "1  5656162.0          3131.0            506.0          381.0   \n",
       "2  5682702.0          4024.0            264.0           87.0   \n",
       "3  6067292.0         40586.0            640.0          622.0   \n",
       "4  6015122.0          2016.0             62.0           64.0   \n",
       "\n",
       "   favourites_count  listed_count  created_at  url  lang  time_zone  location  \\\n",
       "0             145.0          52.0         0.0  1.0   5.0       28.0    1005.0   \n",
       "1               9.0          40.0       322.0  1.0   1.0       28.0    1021.0   \n",
       "2             323.0          16.0      2423.0  1.0   1.0       28.0     551.0   \n",
       "3            1118.0          32.0      2435.0  1.0   1.0       28.0    1389.0   \n",
       "4              13.0           0.0      1883.0  1.0   5.0       28.0    1459.0   \n",
       "\n",
       "   default_profile  geo_enabled  profile_banner_url  \\\n",
       "0              0.0          0.0                 1.0   \n",
       "1              0.0          0.0                 0.0   \n",
       "2              0.0          0.0                 1.0   \n",
       "3              0.0          1.0                 1.0   \n",
       "4              0.0          1.0                 0.0   \n",
       "\n",
       "   profile_use_background_image  fake  gender_code  description_length  \\\n",
       "0                           1.0   0.0          2.0               151.0   \n",
       "1                           1.0   0.0         -2.0               104.0   \n",
       "2                           1.0   0.0          0.0                22.0   \n",
       "3                           1.0   0.0          0.0                36.0   \n",
       "4                           1.0   0.0          2.0                14.0   \n",
       "\n",
       "   followers_to_friends_ratio  \n",
       "0                    2.293501  \n",
       "1                    1.328084  \n",
       "2                    3.034483  \n",
       "3                    1.028939  \n",
       "4                    0.968750  "
      ]
     },
     "execution_count": 21,
     "metadata": {},
     "output_type": "execute_result"
    }
   ],
   "source": [
    "D1_numerical.head(5)"
   ]
  },
  {
   "cell_type": "code",
   "execution_count": 22,
   "metadata": {},
   "outputs": [],
   "source": [
    "D1_numerical.to_csv(r'numerical-users-fusers-7.csv', index = False)"
   ]
  },
  {
   "cell_type": "code",
   "execution_count": 23,
   "metadata": {},
   "outputs": [
    {
     "name": "stdout",
     "output_type": "stream",
     "text": [
      "<class 'pandas.core.frame.DataFrame'>\n",
      "RangeIndex: 2816 entries, 0 to 2815\n",
      "Data columns (total 19 columns):\n",
      " #   Column                        Non-Null Count  Dtype  \n",
      "---  ------                        --------------  -----  \n",
      " 0   id                            2816 non-null   float64\n",
      " 1   statuses_count                2816 non-null   float64\n",
      " 2   followers_count               2816 non-null   float64\n",
      " 3   friends_count                 2816 non-null   float64\n",
      " 4   favourites_count              2816 non-null   float64\n",
      " 5   listed_count                  2816 non-null   float64\n",
      " 6   created_at                    2816 non-null   float64\n",
      " 7   url                           2816 non-null   float64\n",
      " 8   lang                          2816 non-null   float64\n",
      " 9   time_zone                     2816 non-null   float64\n",
      " 10  location                      2816 non-null   float64\n",
      " 11  default_profile               2816 non-null   float64\n",
      " 12  geo_enabled                   2816 non-null   float64\n",
      " 13  profile_banner_url            2816 non-null   float64\n",
      " 14  profile_use_background_image  2816 non-null   float64\n",
      " 15  fake                          2816 non-null   float64\n",
      " 16  gender_code                   2816 non-null   float64\n",
      " 17  description_length            2816 non-null   float64\n",
      " 18  followers_to_friends_ratio    2816 non-null   float64\n",
      "dtypes: float64(19)\n",
      "memory usage: 418.1 KB\n"
     ]
    }
   ],
   "source": [
    "D1_numerical.info()"
   ]
  },
  {
   "cell_type": "markdown",
   "metadata": {},
   "source": [
    "## Data2:\n",
    "\n",
    "https://www.kaggle.com/free4ever1/instagram-fake-spammer-genuine-accounts"
   ]
  },
  {
   "cell_type": "code",
   "execution_count": 24,
   "metadata": {},
   "outputs": [],
   "source": [
    "D2 = pd.read_csv('train_test.csv')"
   ]
  },
  {
   "cell_type": "code",
   "execution_count": 25,
   "metadata": {
    "scrolled": true
   },
   "outputs": [
    {
     "data": {
      "text/html": [
       "<div>\n",
       "<style scoped>\n",
       "    .dataframe tbody tr th:only-of-type {\n",
       "        vertical-align: middle;\n",
       "    }\n",
       "\n",
       "    .dataframe tbody tr th {\n",
       "        vertical-align: top;\n",
       "    }\n",
       "\n",
       "    .dataframe thead th {\n",
       "        text-align: right;\n",
       "    }\n",
       "</style>\n",
       "<table border=\"1\" class=\"dataframe\">\n",
       "  <thead>\n",
       "    <tr style=\"text-align: right;\">\n",
       "      <th></th>\n",
       "      <th>profile pic</th>\n",
       "      <th>nums/length username</th>\n",
       "      <th>fullname words</th>\n",
       "      <th>nums/length fullname</th>\n",
       "      <th>name==username</th>\n",
       "      <th>description length</th>\n",
       "      <th>external URL</th>\n",
       "      <th>private</th>\n",
       "      <th>#posts</th>\n",
       "      <th>#followers</th>\n",
       "      <th>#follows</th>\n",
       "      <th>fake</th>\n",
       "    </tr>\n",
       "  </thead>\n",
       "  <tbody>\n",
       "    <tr>\n",
       "      <th>0</th>\n",
       "      <td>1</td>\n",
       "      <td>0.27</td>\n",
       "      <td>0</td>\n",
       "      <td>0.0</td>\n",
       "      <td>0</td>\n",
       "      <td>53</td>\n",
       "      <td>0</td>\n",
       "      <td>0</td>\n",
       "      <td>32</td>\n",
       "      <td>1000</td>\n",
       "      <td>955</td>\n",
       "      <td>0</td>\n",
       "    </tr>\n",
       "    <tr>\n",
       "      <th>1</th>\n",
       "      <td>1</td>\n",
       "      <td>0.00</td>\n",
       "      <td>2</td>\n",
       "      <td>0.0</td>\n",
       "      <td>0</td>\n",
       "      <td>44</td>\n",
       "      <td>0</td>\n",
       "      <td>0</td>\n",
       "      <td>286</td>\n",
       "      <td>2740</td>\n",
       "      <td>533</td>\n",
       "      <td>0</td>\n",
       "    </tr>\n",
       "    <tr>\n",
       "      <th>2</th>\n",
       "      <td>1</td>\n",
       "      <td>0.10</td>\n",
       "      <td>2</td>\n",
       "      <td>0.0</td>\n",
       "      <td>0</td>\n",
       "      <td>0</td>\n",
       "      <td>0</td>\n",
       "      <td>1</td>\n",
       "      <td>13</td>\n",
       "      <td>159</td>\n",
       "      <td>98</td>\n",
       "      <td>0</td>\n",
       "    </tr>\n",
       "  </tbody>\n",
       "</table>\n",
       "</div>"
      ],
      "text/plain": [
       "   profile pic  nums/length username  fullname words  nums/length fullname  \\\n",
       "0            1                  0.27               0                   0.0   \n",
       "1            1                  0.00               2                   0.0   \n",
       "2            1                  0.10               2                   0.0   \n",
       "\n",
       "   name==username  description length  external URL  private  #posts  \\\n",
       "0               0                  53             0        0      32   \n",
       "1               0                  44             0        0     286   \n",
       "2               0                   0             0        1      13   \n",
       "\n",
       "   #followers  #follows  fake  \n",
       "0        1000       955     0  \n",
       "1        2740       533     0  \n",
       "2         159        98     0  "
      ]
     },
     "execution_count": 25,
     "metadata": {},
     "output_type": "execute_result"
    }
   ],
   "source": [
    "D2.head(3)"
   ]
  },
  {
   "cell_type": "code",
   "execution_count": 26,
   "metadata": {},
   "outputs": [
    {
     "name": "stdout",
     "output_type": "stream",
     "text": [
      "<class 'pandas.core.frame.DataFrame'>\n",
      "RangeIndex: 816 entries, 0 to 815\n",
      "Data columns (total 12 columns):\n",
      " #   Column                Non-Null Count  Dtype  \n",
      "---  ------                --------------  -----  \n",
      " 0   profile pic           816 non-null    int64  \n",
      " 1   nums/length username  816 non-null    float64\n",
      " 2   fullname words        816 non-null    int64  \n",
      " 3   nums/length fullname  816 non-null    float64\n",
      " 4   name==username        816 non-null    int64  \n",
      " 5   description length    816 non-null    int64  \n",
      " 6   external URL          816 non-null    int64  \n",
      " 7   private               816 non-null    int64  \n",
      " 8   #posts                816 non-null    int64  \n",
      " 9   #followers            816 non-null    int64  \n",
      " 10  #follows              816 non-null    int64  \n",
      " 11  fake                  816 non-null    int64  \n",
      "dtypes: float64(2), int64(10)\n",
      "memory usage: 76.6 KB\n"
     ]
    }
   ],
   "source": [
    "D2.info()"
   ]
  },
  {
   "cell_type": "code",
   "execution_count": 27,
   "metadata": {},
   "outputs": [
    {
     "name": "stdout",
     "output_type": "stream",
     "text": [
      "#follows:  11 \n",
      "followers:  22\n",
      "follows1: [45, 301, 339, 345, 391, 488, 492, 496, 498, 516, 519]\n"
     ]
    }
   ],
   "source": [
    "follows=0\n",
    "followers=0\n",
    "follows1 = []\n",
    "for i in range(816):\n",
    "    if D2['#follows'][i] ==0:\n",
    "        follows+=1\n",
    "        follows1.append(i)\n",
    "    if D2['#followers'][i] ==0:\n",
    "        followers+=1\n",
    "print('#follows: ', follows, '\\nfollowers: ', \n",
    "      followers)\n",
    "print ('follows1:', follows1)"
   ]
  },
  {
   "cell_type": "code",
   "execution_count": 28,
   "metadata": {},
   "outputs": [],
   "source": [
    "D2 = D2.drop(D2.index[[45, 301, 339, 345, 391, 488, 492, 496, 498, 516, 519]])\n",
    "D2.reset_index(inplace = True) "
   ]
  },
  {
   "cell_type": "code",
   "execution_count": 29,
   "metadata": {},
   "outputs": [
    {
     "name": "stdout",
     "output_type": "stream",
     "text": [
      "<class 'pandas.core.frame.DataFrame'>\n",
      "RangeIndex: 805 entries, 0 to 804\n",
      "Data columns (total 13 columns):\n",
      " #   Column                Non-Null Count  Dtype  \n",
      "---  ------                --------------  -----  \n",
      " 0   index                 805 non-null    int64  \n",
      " 1   profile pic           805 non-null    int64  \n",
      " 2   nums/length username  805 non-null    float64\n",
      " 3   fullname words        805 non-null    int64  \n",
      " 4   nums/length fullname  805 non-null    float64\n",
      " 5   name==username        805 non-null    int64  \n",
      " 6   description length    805 non-null    int64  \n",
      " 7   external URL          805 non-null    int64  \n",
      " 8   private               805 non-null    int64  \n",
      " 9   #posts                805 non-null    int64  \n",
      " 10  #followers            805 non-null    int64  \n",
      " 11  #follows              805 non-null    int64  \n",
      " 12  fake                  805 non-null    int64  \n",
      "dtypes: float64(2), int64(11)\n",
      "memory usage: 81.9 KB\n"
     ]
    }
   ],
   "source": [
    "D2.info(5)"
   ]
  },
  {
   "cell_type": "code",
   "execution_count": 30,
   "metadata": {},
   "outputs": [],
   "source": [
    "followers_to_follows = []\n",
    "posts_to_follows = []\n",
    "for i in range (805):\n",
    "    followers_to_follows.append(\n",
    "        float(D2['#followers'][i]/D2['#follows'][i]))\n",
    "D2['followers_to_follows_ratio'] = followers_to_follows"
   ]
  },
  {
   "cell_type": "code",
   "execution_count": 31,
   "metadata": {},
   "outputs": [
    {
     "name": "stdout",
     "output_type": "stream",
     "text": [
      "<class 'pandas.core.frame.DataFrame'>\n",
      "RangeIndex: 805 entries, 0 to 804\n",
      "Data columns (total 14 columns):\n",
      " #   Column                      Non-Null Count  Dtype  \n",
      "---  ------                      --------------  -----  \n",
      " 0   index                       805 non-null    int64  \n",
      " 1   profile pic                 805 non-null    int64  \n",
      " 2   nums/length username        805 non-null    float64\n",
      " 3   fullname words              805 non-null    int64  \n",
      " 4   nums/length fullname        805 non-null    float64\n",
      " 5   name==username              805 non-null    int64  \n",
      " 6   description length          805 non-null    int64  \n",
      " 7   external URL                805 non-null    int64  \n",
      " 8   private                     805 non-null    int64  \n",
      " 9   #posts                      805 non-null    int64  \n",
      " 10  #followers                  805 non-null    int64  \n",
      " 11  #follows                    805 non-null    int64  \n",
      " 12  fake                        805 non-null    int64  \n",
      " 13  followers_to_follows_ratio  805 non-null    float64\n",
      "dtypes: float64(3), int64(11)\n",
      "memory usage: 88.2 KB\n"
     ]
    }
   ],
   "source": [
    "D2.info()"
   ]
  },
  {
   "cell_type": "code",
   "execution_count": 32,
   "metadata": {},
   "outputs": [],
   "source": [
    "D2 = D2.drop('index', 1)"
   ]
  },
  {
   "cell_type": "code",
   "execution_count": 33,
   "metadata": {},
   "outputs": [],
   "source": [
    "D2.to_csv('train_test-7.csv')"
   ]
  },
  {
   "cell_type": "code",
   "execution_count": 34,
   "metadata": {},
   "outputs": [
    {
     "name": "stdout",
     "output_type": "stream",
     "text": [
      "<class 'pandas.core.frame.DataFrame'>\n",
      "RangeIndex: 805 entries, 0 to 804\n",
      "Data columns (total 13 columns):\n",
      " #   Column                      Non-Null Count  Dtype  \n",
      "---  ------                      --------------  -----  \n",
      " 0   profile pic                 805 non-null    int64  \n",
      " 1   nums/length username        805 non-null    float64\n",
      " 2   fullname words              805 non-null    int64  \n",
      " 3   nums/length fullname        805 non-null    float64\n",
      " 4   name==username              805 non-null    int64  \n",
      " 5   description length          805 non-null    int64  \n",
      " 6   external URL                805 non-null    int64  \n",
      " 7   private                     805 non-null    int64  \n",
      " 8   #posts                      805 non-null    int64  \n",
      " 9   #followers                  805 non-null    int64  \n",
      " 10  #follows                    805 non-null    int64  \n",
      " 11  fake                        805 non-null    int64  \n",
      " 12  followers_to_follows_ratio  805 non-null    float64\n",
      "dtypes: float64(3), int64(10)\n",
      "memory usage: 81.9 KB\n"
     ]
    }
   ],
   "source": [
    "D2.info()"
   ]
  },
  {
   "cell_type": "markdown",
   "metadata": {},
   "source": [
    "## Data3:"
   ]
  },
  {
   "cell_type": "markdown",
   "metadata": {},
   "source": [
    "https://github.com/fcakyon/instafake-dataset/tree/master/data/fake-v1.0"
   ]
  },
  {
   "cell_type": "code",
   "execution_count": 35,
   "metadata": {},
   "outputs": [],
   "source": [
    "import pandas as pd\n",
    "import numpy as np\n",
    "real = pd.read_json('realAccountData.json')\n",
    "fake = pd.read_json('fakeAccountData.json')\n",
    "x=pd.concat([real,fake])   \n",
    "x.to_csv(r'real-fake.csv', index = False)"
   ]
  },
  {
   "cell_type": "code",
   "execution_count": 36,
   "metadata": {
    "scrolled": true
   },
   "outputs": [
    {
     "name": "stdout",
     "output_type": "stream",
     "text": [
      "<class 'pandas.core.frame.DataFrame'>\n",
      "RangeIndex: 1194 entries, 0 to 1193\n",
      "Data columns (total 9 columns):\n",
      " #   Column               Non-Null Count  Dtype\n",
      "---  ------               --------------  -----\n",
      " 0   userFollowerCount    1194 non-null   int64\n",
      " 1   userFollowingCount   1194 non-null   int64\n",
      " 2   userBiographyLength  1194 non-null   int64\n",
      " 3   userMediaCount       1194 non-null   int64\n",
      " 4   userHasProfilPic     1194 non-null   int64\n",
      " 5   userIsPrivate        1194 non-null   int64\n",
      " 6   usernameDigitCount   1194 non-null   int64\n",
      " 7   usernameLength       1194 non-null   int64\n",
      " 8   isFake               1194 non-null   int64\n",
      "dtypes: int64(9)\n",
      "memory usage: 84.1 KB\n"
     ]
    }
   ],
   "source": [
    "D3 = pd.read_csv('real-fake.csv')\n",
    "D3.info()"
   ]
  },
  {
   "cell_type": "code",
   "execution_count": 37,
   "metadata": {},
   "outputs": [
    {
     "name": "stdout",
     "output_type": "stream",
     "text": [
      "following:  5 \n",
      "follower:  18\n",
      "\n",
      "following1: [1186, 1187, 1190, 1192, 1193]\n"
     ]
    }
   ],
   "source": [
    "following=0\n",
    "follower=0\n",
    "following1 = []\n",
    "for i in range(1194):\n",
    "    if D3['userFollowingCount'][i] ==0:\n",
    "        following+=1\n",
    "        following1.append(i)\n",
    "    if D3['userFollowerCount'][i] ==0:\n",
    "        follower+=1\n",
    "print('following: ', following, \n",
    "      '\\nfollower: ', follower)\n",
    "print ('\\nfollowing1:', following1)"
   ]
  },
  {
   "cell_type": "code",
   "execution_count": 38,
   "metadata": {},
   "outputs": [],
   "source": [
    "D3 = D3.drop(D3.index[[1186, 1187, 1190, 1192, 1193]])\n",
    "D3.reset_index(inplace = True) "
   ]
  },
  {
   "cell_type": "code",
   "execution_count": 39,
   "metadata": {},
   "outputs": [
    {
     "name": "stdout",
     "output_type": "stream",
     "text": [
      "<class 'pandas.core.frame.DataFrame'>\n",
      "RangeIndex: 1189 entries, 0 to 1188\n",
      "Data columns (total 10 columns):\n",
      " #   Column               Non-Null Count  Dtype\n",
      "---  ------               --------------  -----\n",
      " 0   index                1189 non-null   int64\n",
      " 1   userFollowerCount    1189 non-null   int64\n",
      " 2   userFollowingCount   1189 non-null   int64\n",
      " 3   userBiographyLength  1189 non-null   int64\n",
      " 4   userMediaCount       1189 non-null   int64\n",
      " 5   userHasProfilPic     1189 non-null   int64\n",
      " 6   userIsPrivate        1189 non-null   int64\n",
      " 7   usernameDigitCount   1189 non-null   int64\n",
      " 8   usernameLength       1189 non-null   int64\n",
      " 9   isFake               1189 non-null   int64\n",
      "dtypes: int64(10)\n",
      "memory usage: 93.0 KB\n"
     ]
    }
   ],
   "source": [
    "D3.info()"
   ]
  },
  {
   "cell_type": "code",
   "execution_count": 40,
   "metadata": {},
   "outputs": [],
   "source": [
    "followers_to_Following = []\n",
    "media_to_Following = []\n",
    "for i in range (1189):\n",
    "    followers_to_Following.append(\n",
    "        float(D3['userFollowerCount'][i]/D3['userFollowingCount'][i]))\n",
    "D3['Follower_to_Following_ratio'] = followers_to_Following"
   ]
  },
  {
   "cell_type": "code",
   "execution_count": 41,
   "metadata": {},
   "outputs": [
    {
     "name": "stdout",
     "output_type": "stream",
     "text": [
      "<class 'pandas.core.frame.DataFrame'>\n",
      "RangeIndex: 1189 entries, 0 to 1188\n",
      "Data columns (total 11 columns):\n",
      " #   Column                       Non-Null Count  Dtype  \n",
      "---  ------                       --------------  -----  \n",
      " 0   index                        1189 non-null   int64  \n",
      " 1   userFollowerCount            1189 non-null   int64  \n",
      " 2   userFollowingCount           1189 non-null   int64  \n",
      " 3   userBiographyLength          1189 non-null   int64  \n",
      " 4   userMediaCount               1189 non-null   int64  \n",
      " 5   userHasProfilPic             1189 non-null   int64  \n",
      " 6   userIsPrivate                1189 non-null   int64  \n",
      " 7   usernameDigitCount           1189 non-null   int64  \n",
      " 8   usernameLength               1189 non-null   int64  \n",
      " 9   isFake                       1189 non-null   int64  \n",
      " 10  Follower_to_Following_ratio  1189 non-null   float64\n",
      "dtypes: float64(1), int64(10)\n",
      "memory usage: 102.3 KB\n"
     ]
    }
   ],
   "source": [
    "D3.info()"
   ]
  },
  {
   "cell_type": "code",
   "execution_count": 42,
   "metadata": {},
   "outputs": [
    {
     "data": {
      "text/html": [
       "<div>\n",
       "<style scoped>\n",
       "    .dataframe tbody tr th:only-of-type {\n",
       "        vertical-align: middle;\n",
       "    }\n",
       "\n",
       "    .dataframe tbody tr th {\n",
       "        vertical-align: top;\n",
       "    }\n",
       "\n",
       "    .dataframe thead th {\n",
       "        text-align: right;\n",
       "    }\n",
       "</style>\n",
       "<table border=\"1\" class=\"dataframe\">\n",
       "  <thead>\n",
       "    <tr style=\"text-align: right;\">\n",
       "      <th></th>\n",
       "      <th>index</th>\n",
       "      <th>userFollowerCount</th>\n",
       "      <th>userFollowingCount</th>\n",
       "      <th>userBiographyLength</th>\n",
       "      <th>userMediaCount</th>\n",
       "      <th>userHasProfilPic</th>\n",
       "      <th>userIsPrivate</th>\n",
       "      <th>usernameDigitCount</th>\n",
       "      <th>usernameLength</th>\n",
       "      <th>isFake</th>\n",
       "      <th>Follower_to_Following_ratio</th>\n",
       "    </tr>\n",
       "  </thead>\n",
       "  <tbody>\n",
       "    <tr>\n",
       "      <th>0</th>\n",
       "      <td>0</td>\n",
       "      <td>258</td>\n",
       "      <td>238</td>\n",
       "      <td>0</td>\n",
       "      <td>0</td>\n",
       "      <td>1</td>\n",
       "      <td>0</td>\n",
       "      <td>0</td>\n",
       "      <td>10</td>\n",
       "      <td>0</td>\n",
       "      <td>1.084034</td>\n",
       "    </tr>\n",
       "    <tr>\n",
       "      <th>1</th>\n",
       "      <td>1</td>\n",
       "      <td>263</td>\n",
       "      <td>482</td>\n",
       "      <td>30</td>\n",
       "      <td>29</td>\n",
       "      <td>1</td>\n",
       "      <td>1</td>\n",
       "      <td>0</td>\n",
       "      <td>8</td>\n",
       "      <td>0</td>\n",
       "      <td>0.545643</td>\n",
       "    </tr>\n",
       "    <tr>\n",
       "      <th>2</th>\n",
       "      <td>2</td>\n",
       "      <td>51</td>\n",
       "      <td>78</td>\n",
       "      <td>9</td>\n",
       "      <td>0</td>\n",
       "      <td>1</td>\n",
       "      <td>1</td>\n",
       "      <td>0</td>\n",
       "      <td>10</td>\n",
       "      <td>0</td>\n",
       "      <td>0.653846</td>\n",
       "    </tr>\n",
       "    <tr>\n",
       "      <th>3</th>\n",
       "      <td>3</td>\n",
       "      <td>297</td>\n",
       "      <td>480</td>\n",
       "      <td>22</td>\n",
       "      <td>25</td>\n",
       "      <td>1</td>\n",
       "      <td>1</td>\n",
       "      <td>2</td>\n",
       "      <td>9</td>\n",
       "      <td>0</td>\n",
       "      <td>0.618750</td>\n",
       "    </tr>\n",
       "    <tr>\n",
       "      <th>4</th>\n",
       "      <td>4</td>\n",
       "      <td>113</td>\n",
       "      <td>242</td>\n",
       "      <td>0</td>\n",
       "      <td>95</td>\n",
       "      <td>1</td>\n",
       "      <td>1</td>\n",
       "      <td>0</td>\n",
       "      <td>10</td>\n",
       "      <td>0</td>\n",
       "      <td>0.466942</td>\n",
       "    </tr>\n",
       "  </tbody>\n",
       "</table>\n",
       "</div>"
      ],
      "text/plain": [
       "   index  userFollowerCount  userFollowingCount  userBiographyLength  \\\n",
       "0      0                258                 238                    0   \n",
       "1      1                263                 482                   30   \n",
       "2      2                 51                  78                    9   \n",
       "3      3                297                 480                   22   \n",
       "4      4                113                 242                    0   \n",
       "\n",
       "   userMediaCount  userHasProfilPic  userIsPrivate  usernameDigitCount  \\\n",
       "0               0                 1              0                   0   \n",
       "1              29                 1              1                   0   \n",
       "2               0                 1              1                   0   \n",
       "3              25                 1              1                   2   \n",
       "4              95                 1              1                   0   \n",
       "\n",
       "   usernameLength  isFake  Follower_to_Following_ratio  \n",
       "0              10       0                     1.084034  \n",
       "1               8       0                     0.545643  \n",
       "2              10       0                     0.653846  \n",
       "3               9       0                     0.618750  \n",
       "4              10       0                     0.466942  "
      ]
     },
     "execution_count": 42,
     "metadata": {},
     "output_type": "execute_result"
    }
   ],
   "source": [
    "D3.head(5)"
   ]
  },
  {
   "cell_type": "code",
   "execution_count": 43,
   "metadata": {},
   "outputs": [],
   "source": [
    "D3.drop(columns= ['index'], inplace=True)"
   ]
  },
  {
   "cell_type": "code",
   "execution_count": 44,
   "metadata": {},
   "outputs": [],
   "source": [
    "D3.to_csv('real-fake-7.csv')"
   ]
  },
  {
   "cell_type": "code",
   "execution_count": 45,
   "metadata": {},
   "outputs": [
    {
     "name": "stdout",
     "output_type": "stream",
     "text": [
      "<class 'pandas.core.frame.DataFrame'>\n",
      "RangeIndex: 1189 entries, 0 to 1188\n",
      "Data columns (total 10 columns):\n",
      " #   Column                       Non-Null Count  Dtype  \n",
      "---  ------                       --------------  -----  \n",
      " 0   userFollowerCount            1189 non-null   int64  \n",
      " 1   userFollowingCount           1189 non-null   int64  \n",
      " 2   userBiographyLength          1189 non-null   int64  \n",
      " 3   userMediaCount               1189 non-null   int64  \n",
      " 4   userHasProfilPic             1189 non-null   int64  \n",
      " 5   userIsPrivate                1189 non-null   int64  \n",
      " 6   usernameDigitCount           1189 non-null   int64  \n",
      " 7   usernameLength               1189 non-null   int64  \n",
      " 8   isFake                       1189 non-null   int64  \n",
      " 9   Follower_to_Following_ratio  1189 non-null   float64\n",
      "dtypes: float64(1), int64(9)\n",
      "memory usage: 93.0 KB\n"
     ]
    }
   ],
   "source": [
    "D3.info()"
   ]
  },
  {
   "cell_type": "markdown",
   "metadata": {},
   "source": [
    "## D4:"
   ]
  },
  {
   "cell_type": "markdown",
   "metadata": {},
   "source": [
    "https://github.com/radheysm/Fake-Profile-Detection"
   ]
  },
  {
   "cell_type": "code",
   "execution_count": 46,
   "metadata": {},
   "outputs": [
    {
     "name": "stdout",
     "output_type": "stream",
     "text": [
      "<class 'pandas.core.frame.DataFrame'>\n",
      "RangeIndex: 552 entries, 0 to 551\n",
      "Data columns (total 17 columns):\n",
      " #   Column                 Non-Null Count  Dtype  \n",
      "---  ------                 --------------  -----  \n",
      " 0   Unnamed: 0             552 non-null    int64  \n",
      " 1   Unnamed: 0.1           552 non-null    int64  \n",
      " 2   UserID                 552 non-null    int64  \n",
      " 3   UserScreenName         552 non-null    object \n",
      " 4   UserCreatedAt          552 non-null    object \n",
      " 5   UserDescriptionLength  552 non-null    int64  \n",
      " 6   UserFollowersCount     552 non-null    int64  \n",
      " 7   UserFriendsCount       552 non-null    float64\n",
      " 8   UserLocation           552 non-null    object \n",
      " 9   AvgHashtag             552 non-null    float64\n",
      " 10  AvgURLCount            552 non-null    float64\n",
      " 11  AvgMention             552 non-null    float64\n",
      " 12  AvgRetweet             552 non-null    float64\n",
      " 13  AvgFavCount            552 non-null    float64\n",
      " 14  TweetCount             552 non-null    int64  \n",
      " 15  SpammerOrNot           552 non-null    int64  \n",
      " 16  Current_Time           552 non-null    object \n",
      "dtypes: float64(6), int64(7), object(4)\n",
      "memory usage: 73.4+ KB\n"
     ]
    }
   ],
   "source": [
    "D4 = pd.read_csv('Total_data.csv')\n",
    "D4.info()"
   ]
  },
  {
   "cell_type": "code",
   "execution_count": 47,
   "metadata": {},
   "outputs": [],
   "source": [
    "D4.drop(columns= ['Unnamed: 0', 'Unnamed: 0.1', 'UserScreenName'], inplace=True)"
   ]
  },
  {
   "cell_type": "code",
   "execution_count": 48,
   "metadata": {},
   "outputs": [
    {
     "data": {
      "text/html": [
       "<div>\n",
       "<style scoped>\n",
       "    .dataframe tbody tr th:only-of-type {\n",
       "        vertical-align: middle;\n",
       "    }\n",
       "\n",
       "    .dataframe tbody tr th {\n",
       "        vertical-align: top;\n",
       "    }\n",
       "\n",
       "    .dataframe thead th {\n",
       "        text-align: right;\n",
       "    }\n",
       "</style>\n",
       "<table border=\"1\" class=\"dataframe\">\n",
       "  <thead>\n",
       "    <tr style=\"text-align: right;\">\n",
       "      <th></th>\n",
       "      <th>UserID</th>\n",
       "      <th>UserCreatedAt</th>\n",
       "      <th>UserDescriptionLength</th>\n",
       "      <th>UserFollowersCount</th>\n",
       "      <th>UserFriendsCount</th>\n",
       "      <th>UserLocation</th>\n",
       "      <th>AvgHashtag</th>\n",
       "      <th>AvgURLCount</th>\n",
       "      <th>AvgMention</th>\n",
       "      <th>AvgRetweet</th>\n",
       "      <th>AvgFavCount</th>\n",
       "      <th>TweetCount</th>\n",
       "      <th>SpammerOrNot</th>\n",
       "      <th>Current_Time</th>\n",
       "    </tr>\n",
       "  </thead>\n",
       "  <tbody>\n",
       "    <tr>\n",
       "      <th>0</th>\n",
       "      <td>613357772</td>\n",
       "      <td>2012-06-20 11:24:09</td>\n",
       "      <td>145</td>\n",
       "      <td>62144</td>\n",
       "      <td>297.0</td>\n",
       "      <td>Chennai, India</td>\n",
       "      <td>0.466667</td>\n",
       "      <td>0.266667</td>\n",
       "      <td>1.166667</td>\n",
       "      <td>9.700000</td>\n",
       "      <td>11.700000</td>\n",
       "      <td>21157</td>\n",
       "      <td>0</td>\n",
       "      <td>2019-04-23 14:45:45</td>\n",
       "    </tr>\n",
       "    <tr>\n",
       "      <th>1</th>\n",
       "      <td>284920800</td>\n",
       "      <td>2011-04-20 06:14:32</td>\n",
       "      <td>75</td>\n",
       "      <td>109825</td>\n",
       "      <td>161.0</td>\n",
       "      <td>India</td>\n",
       "      <td>0.600000</td>\n",
       "      <td>0.933333</td>\n",
       "      <td>0.333333</td>\n",
       "      <td>5.366667</td>\n",
       "      <td>6.366667</td>\n",
       "      <td>78784</td>\n",
       "      <td>0</td>\n",
       "      <td>2019-04-23 14:45:45</td>\n",
       "    </tr>\n",
       "    <tr>\n",
       "      <th>2</th>\n",
       "      <td>1943418931</td>\n",
       "      <td>2013-10-07 08:07:03</td>\n",
       "      <td>102</td>\n",
       "      <td>237690</td>\n",
       "      <td>156.0</td>\n",
       "      <td>Chennai</td>\n",
       "      <td>2.300000</td>\n",
       "      <td>1.000000</td>\n",
       "      <td>0.000000</td>\n",
       "      <td>1.700000</td>\n",
       "      <td>10.966667</td>\n",
       "      <td>85765</td>\n",
       "      <td>0</td>\n",
       "      <td>2019-04-23 14:45:45</td>\n",
       "    </tr>\n",
       "    <tr>\n",
       "      <th>3</th>\n",
       "      <td>740815249524285440</td>\n",
       "      <td>2016-06-09 07:58:13</td>\n",
       "      <td>0</td>\n",
       "      <td>7449</td>\n",
       "      <td>323.0</td>\n",
       "      <td>Chennai, India</td>\n",
       "      <td>0.000000</td>\n",
       "      <td>1.000000</td>\n",
       "      <td>0.900000</td>\n",
       "      <td>0.000000</td>\n",
       "      <td>0.133333</td>\n",
       "      <td>38658</td>\n",
       "      <td>0</td>\n",
       "      <td>2019-04-23 14:45:45</td>\n",
       "    </tr>\n",
       "    <tr>\n",
       "      <th>4</th>\n",
       "      <td>777850687338057729</td>\n",
       "      <td>2016-09-19 12:43:50</td>\n",
       "      <td>0</td>\n",
       "      <td>1271</td>\n",
       "      <td>1022.0</td>\n",
       "      <td>0</td>\n",
       "      <td>1.833333</td>\n",
       "      <td>1.900000</td>\n",
       "      <td>1.400000</td>\n",
       "      <td>0.400000</td>\n",
       "      <td>0.766667</td>\n",
       "      <td>2482</td>\n",
       "      <td>0</td>\n",
       "      <td>2019-04-23 14:45:45</td>\n",
       "    </tr>\n",
       "  </tbody>\n",
       "</table>\n",
       "</div>"
      ],
      "text/plain": [
       "               UserID        UserCreatedAt  UserDescriptionLength  \\\n",
       "0           613357772  2012-06-20 11:24:09                    145   \n",
       "1           284920800  2011-04-20 06:14:32                     75   \n",
       "2          1943418931  2013-10-07 08:07:03                    102   \n",
       "3  740815249524285440  2016-06-09 07:58:13                      0   \n",
       "4  777850687338057729  2016-09-19 12:43:50                      0   \n",
       "\n",
       "   UserFollowersCount  UserFriendsCount    UserLocation  AvgHashtag  \\\n",
       "0               62144             297.0  Chennai, India    0.466667   \n",
       "1              109825             161.0           India    0.600000   \n",
       "2              237690             156.0         Chennai    2.300000   \n",
       "3                7449             323.0  Chennai, India    0.000000   \n",
       "4                1271            1022.0               0    1.833333   \n",
       "\n",
       "   AvgURLCount  AvgMention  AvgRetweet  AvgFavCount  TweetCount  SpammerOrNot  \\\n",
       "0     0.266667    1.166667    9.700000    11.700000       21157             0   \n",
       "1     0.933333    0.333333    5.366667     6.366667       78784             0   \n",
       "2     1.000000    0.000000    1.700000    10.966667       85765             0   \n",
       "3     1.000000    0.900000    0.000000     0.133333       38658             0   \n",
       "4     1.900000    1.400000    0.400000     0.766667        2482             0   \n",
       "\n",
       "          Current_Time  \n",
       "0  2019-04-23 14:45:45  \n",
       "1  2019-04-23 14:45:45  \n",
       "2  2019-04-23 14:45:45  \n",
       "3  2019-04-23 14:45:45  \n",
       "4  2019-04-23 14:45:45  "
      ]
     },
     "execution_count": 48,
     "metadata": {},
     "output_type": "execute_result"
    }
   ],
   "source": [
    "D4.head(5)"
   ]
  },
  {
   "cell_type": "code",
   "execution_count": 49,
   "metadata": {},
   "outputs": [],
   "source": [
    "CA_list = list(enumerate(np.unique(D4['UserCreatedAt'])))   \n",
    "CA_dict = { name : i for i, name in CA_list }             \n",
    "D4.loc[:,'UserCreatedAt'] = D4['UserCreatedAt'].map( lambda D4: CA_dict[D4]).astype(int) "
   ]
  },
  {
   "cell_type": "code",
   "execution_count": 50,
   "metadata": {},
   "outputs": [],
   "source": [
    "CA_list = list(enumerate(np.unique(D4['Current_Time'])))   \n",
    "CA_dict = { name : i for i, name in CA_list }             \n",
    "D4.loc[:,'Current_Time'] = D4['Current_Time'].map( lambda D4: CA_dict[D4]).astype(int) "
   ]
  },
  {
   "cell_type": "code",
   "execution_count": 51,
   "metadata": {},
   "outputs": [],
   "source": [
    "location_list = list(enumerate(np.unique(D4['UserLocation'])))   \n",
    "location_dict = { name : i for i, name in location_list }             \n",
    "D4.loc[:,'UserLocation'] = D4['UserLocation'].map( lambda D4: location_dict[D4]).astype(int) "
   ]
  },
  {
   "cell_type": "code",
   "execution_count": 52,
   "metadata": {},
   "outputs": [
    {
     "name": "stdout",
     "output_type": "stream",
     "text": [
      "<class 'pandas.core.frame.DataFrame'>\n",
      "RangeIndex: 552 entries, 0 to 551\n",
      "Data columns (total 14 columns):\n",
      " #   Column                 Non-Null Count  Dtype  \n",
      "---  ------                 --------------  -----  \n",
      " 0   UserID                 552 non-null    int64  \n",
      " 1   UserCreatedAt          552 non-null    int32  \n",
      " 2   UserDescriptionLength  552 non-null    int64  \n",
      " 3   UserFollowersCount     552 non-null    int64  \n",
      " 4   UserFriendsCount       552 non-null    float64\n",
      " 5   UserLocation           552 non-null    int32  \n",
      " 6   AvgHashtag             552 non-null    float64\n",
      " 7   AvgURLCount            552 non-null    float64\n",
      " 8   AvgMention             552 non-null    float64\n",
      " 9   AvgRetweet             552 non-null    float64\n",
      " 10  AvgFavCount            552 non-null    float64\n",
      " 11  TweetCount             552 non-null    int64  \n",
      " 12  SpammerOrNot           552 non-null    int64  \n",
      " 13  Current_Time           552 non-null    int32  \n",
      "dtypes: float64(6), int32(3), int64(5)\n",
      "memory usage: 54.0 KB\n"
     ]
    }
   ],
   "source": [
    "D4.info()"
   ]
  },
  {
   "cell_type": "code",
   "execution_count": 53,
   "metadata": {},
   "outputs": [
    {
     "data": {
      "text/html": [
       "<div>\n",
       "<style scoped>\n",
       "    .dataframe tbody tr th:only-of-type {\n",
       "        vertical-align: middle;\n",
       "    }\n",
       "\n",
       "    .dataframe tbody tr th {\n",
       "        vertical-align: top;\n",
       "    }\n",
       "\n",
       "    .dataframe thead th {\n",
       "        text-align: right;\n",
       "    }\n",
       "</style>\n",
       "<table border=\"1\" class=\"dataframe\">\n",
       "  <thead>\n",
       "    <tr style=\"text-align: right;\">\n",
       "      <th></th>\n",
       "      <th>UserID</th>\n",
       "      <th>UserCreatedAt</th>\n",
       "      <th>UserDescriptionLength</th>\n",
       "      <th>UserFollowersCount</th>\n",
       "      <th>UserFriendsCount</th>\n",
       "      <th>UserLocation</th>\n",
       "      <th>AvgHashtag</th>\n",
       "      <th>AvgURLCount</th>\n",
       "      <th>AvgMention</th>\n",
       "      <th>AvgRetweet</th>\n",
       "      <th>AvgFavCount</th>\n",
       "      <th>TweetCount</th>\n",
       "      <th>SpammerOrNot</th>\n",
       "      <th>Current_Time</th>\n",
       "    </tr>\n",
       "  </thead>\n",
       "  <tbody>\n",
       "    <tr>\n",
       "      <th>0</th>\n",
       "      <td>613357772</td>\n",
       "      <td>88</td>\n",
       "      <td>145</td>\n",
       "      <td>62144</td>\n",
       "      <td>297.0</td>\n",
       "      <td>45</td>\n",
       "      <td>0.466667</td>\n",
       "      <td>0.266667</td>\n",
       "      <td>1.166667</td>\n",
       "      <td>9.700000</td>\n",
       "      <td>11.700000</td>\n",
       "      <td>21157</td>\n",
       "      <td>0</td>\n",
       "      <td>0</td>\n",
       "    </tr>\n",
       "    <tr>\n",
       "      <th>1</th>\n",
       "      <td>284920800</td>\n",
       "      <td>57</td>\n",
       "      <td>75</td>\n",
       "      <td>109825</td>\n",
       "      <td>161.0</td>\n",
       "      <td>86</td>\n",
       "      <td>0.600000</td>\n",
       "      <td>0.933333</td>\n",
       "      <td>0.333333</td>\n",
       "      <td>5.366667</td>\n",
       "      <td>6.366667</td>\n",
       "      <td>78784</td>\n",
       "      <td>0</td>\n",
       "      <td>0</td>\n",
       "    </tr>\n",
       "    <tr>\n",
       "      <th>2</th>\n",
       "      <td>1943418931</td>\n",
       "      <td>153</td>\n",
       "      <td>102</td>\n",
       "      <td>237690</td>\n",
       "      <td>156.0</td>\n",
       "      <td>44</td>\n",
       "      <td>2.300000</td>\n",
       "      <td>1.000000</td>\n",
       "      <td>0.000000</td>\n",
       "      <td>1.700000</td>\n",
       "      <td>10.966667</td>\n",
       "      <td>85765</td>\n",
       "      <td>0</td>\n",
       "      <td>0</td>\n",
       "    </tr>\n",
       "    <tr>\n",
       "      <th>3</th>\n",
       "      <td>740815249524285440</td>\n",
       "      <td>276</td>\n",
       "      <td>0</td>\n",
       "      <td>7449</td>\n",
       "      <td>323.0</td>\n",
       "      <td>45</td>\n",
       "      <td>0.000000</td>\n",
       "      <td>1.000000</td>\n",
       "      <td>0.900000</td>\n",
       "      <td>0.000000</td>\n",
       "      <td>0.133333</td>\n",
       "      <td>38658</td>\n",
       "      <td>0</td>\n",
       "      <td>0</td>\n",
       "    </tr>\n",
       "    <tr>\n",
       "      <th>4</th>\n",
       "      <td>777850687338057729</td>\n",
       "      <td>289</td>\n",
       "      <td>0</td>\n",
       "      <td>1271</td>\n",
       "      <td>1022.0</td>\n",
       "      <td>2</td>\n",
       "      <td>1.833333</td>\n",
       "      <td>1.900000</td>\n",
       "      <td>1.400000</td>\n",
       "      <td>0.400000</td>\n",
       "      <td>0.766667</td>\n",
       "      <td>2482</td>\n",
       "      <td>0</td>\n",
       "      <td>0</td>\n",
       "    </tr>\n",
       "  </tbody>\n",
       "</table>\n",
       "</div>"
      ],
      "text/plain": [
       "               UserID  UserCreatedAt  UserDescriptionLength  \\\n",
       "0           613357772             88                    145   \n",
       "1           284920800             57                     75   \n",
       "2          1943418931            153                    102   \n",
       "3  740815249524285440            276                      0   \n",
       "4  777850687338057729            289                      0   \n",
       "\n",
       "   UserFollowersCount  UserFriendsCount  UserLocation  AvgHashtag  \\\n",
       "0               62144             297.0            45    0.466667   \n",
       "1              109825             161.0            86    0.600000   \n",
       "2              237690             156.0            44    2.300000   \n",
       "3                7449             323.0            45    0.000000   \n",
       "4                1271            1022.0             2    1.833333   \n",
       "\n",
       "   AvgURLCount  AvgMention  AvgRetweet  AvgFavCount  TweetCount  SpammerOrNot  \\\n",
       "0     0.266667    1.166667    9.700000    11.700000       21157             0   \n",
       "1     0.933333    0.333333    5.366667     6.366667       78784             0   \n",
       "2     1.000000    0.000000    1.700000    10.966667       85765             0   \n",
       "3     1.000000    0.900000    0.000000     0.133333       38658             0   \n",
       "4     1.900000    1.400000    0.400000     0.766667        2482             0   \n",
       "\n",
       "   Current_Time  \n",
       "0             0  \n",
       "1             0  \n",
       "2             0  \n",
       "3             0  \n",
       "4             0  "
      ]
     },
     "execution_count": 53,
     "metadata": {},
     "output_type": "execute_result"
    }
   ],
   "source": [
    "D4.head(5)"
   ]
  },
  {
   "cell_type": "code",
   "execution_count": 54,
   "metadata": {},
   "outputs": [
    {
     "name": "stdout",
     "output_type": "stream",
     "text": [
      "follwers:  0 \n",
      "friends:  12\n",
      "friends1 [6, 189, 201, 227, 228, 253, 455, 514, 515, 533, 538, 548]\n"
     ]
    }
   ],
   "source": [
    "followers = 0\n",
    "friends = 0\n",
    "friends1 = []\n",
    "for i in range(552):\n",
    "    if D4['UserFollowersCount'][i] ==0:\n",
    "        followers+=1\n",
    "    if D4['UserFriendsCount'][i] ==0:\n",
    "        friends+=1\n",
    "        friends1.append(i)\n",
    "print('follwers: ', followers, '\\nfriends: ', friends)\n",
    "print ('friends1', friends1)"
   ]
  },
  {
   "cell_type": "code",
   "execution_count": 55,
   "metadata": {},
   "outputs": [],
   "source": [
    "friends_to_followers = []\n",
    "for i in range (552):\n",
    "    friends_to_followers.append(\n",
    "        float(D4['UserFriendsCount'][i]/D4['UserFollowersCount'][i]))\n",
    "D4['friends_to_followers_ratio'] = friends_to_followers"
   ]
  },
  {
   "cell_type": "code",
   "execution_count": 56,
   "metadata": {},
   "outputs": [
    {
     "name": "stdout",
     "output_type": "stream",
     "text": [
      "<class 'pandas.core.frame.DataFrame'>\n",
      "RangeIndex: 552 entries, 0 to 551\n",
      "Data columns (total 15 columns):\n",
      " #   Column                      Non-Null Count  Dtype  \n",
      "---  ------                      --------------  -----  \n",
      " 0   UserID                      552 non-null    int64  \n",
      " 1   UserCreatedAt               552 non-null    int32  \n",
      " 2   UserDescriptionLength       552 non-null    int64  \n",
      " 3   UserFollowersCount          552 non-null    int64  \n",
      " 4   UserFriendsCount            552 non-null    float64\n",
      " 5   UserLocation                552 non-null    int32  \n",
      " 6   AvgHashtag                  552 non-null    float64\n",
      " 7   AvgURLCount                 552 non-null    float64\n",
      " 8   AvgMention                  552 non-null    float64\n",
      " 9   AvgRetweet                  552 non-null    float64\n",
      " 10  AvgFavCount                 552 non-null    float64\n",
      " 11  TweetCount                  552 non-null    int64  \n",
      " 12  SpammerOrNot                552 non-null    int64  \n",
      " 13  Current_Time                552 non-null    int32  \n",
      " 14  friends_to_followers_ratio  552 non-null    float64\n",
      "dtypes: float64(7), int32(3), int64(5)\n",
      "memory usage: 58.3 KB\n"
     ]
    }
   ],
   "source": [
    "D4.info()"
   ]
  },
  {
   "cell_type": "code",
   "execution_count": 57,
   "metadata": {},
   "outputs": [],
   "source": [
    "D4.drop(columns= ['Current_Time'], inplace=True)"
   ]
  },
  {
   "cell_type": "code",
   "execution_count": 58,
   "metadata": {},
   "outputs": [],
   "source": [
    "D4.to_csv('n_Total_data-7.csv')"
   ]
  },
  {
   "cell_type": "code",
   "execution_count": null,
   "metadata": {},
   "outputs": [],
   "source": []
  }
 ],
 "metadata": {
  "kernelspec": {
   "display_name": "Python 3",
   "language": "python",
   "name": "python3"
  },
  "language_info": {
   "codemirror_mode": {
    "name": "ipython",
    "version": 3
   },
   "file_extension": ".py",
   "mimetype": "text/x-python",
   "name": "python",
   "nbconvert_exporter": "python",
   "pygments_lexer": "ipython3",
   "version": "3.7.9"
  }
 },
 "nbformat": 4,
 "nbformat_minor": 4
}
