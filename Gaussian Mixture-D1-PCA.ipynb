{
 "cells": [
  {
   "cell_type": "code",
   "execution_count": 1,
   "metadata": {},
   "outputs": [],
   "source": [
    "#import libraries\n",
    "import pandas as pd\n",
    "import numpy as np\n",
    "import random as rd\n",
    "import matplotlib.pyplot as plt\n",
    "%matplotlib inline\n",
    "from sklearn.neighbors import NearestNeighbors\n",
    "from sklearn.cluster import DBSCAN\n",
    "import seaborn as sns\n",
    "sns.set()\n",
    "import math"
   ]
  },
  {
   "cell_type": "code",
   "execution_count": 2,
   "metadata": {},
   "outputs": [
    {
     "name": "stdout",
     "output_type": "stream",
     "text": [
      "<class 'pandas.core.frame.DataFrame'>\n",
      "RangeIndex: 2816 entries, 0 to 2815\n",
      "Data columns (total 19 columns):\n",
      " #   Column                        Non-Null Count  Dtype  \n",
      "---  ------                        --------------  -----  \n",
      " 0   id                            2816 non-null   float64\n",
      " 1   statuses_count                2816 non-null   float64\n",
      " 2   followers_count               2816 non-null   float64\n",
      " 3   friends_count                 2816 non-null   float64\n",
      " 4   favourites_count              2816 non-null   float64\n",
      " 5   listed_count                  2816 non-null   float64\n",
      " 6   created_at                    2816 non-null   float64\n",
      " 7   url                           2816 non-null   float64\n",
      " 8   lang                          2816 non-null   float64\n",
      " 9   time_zone                     2816 non-null   float64\n",
      " 10  location                      2816 non-null   float64\n",
      " 11  default_profile               2816 non-null   float64\n",
      " 12  geo_enabled                   2816 non-null   float64\n",
      " 13  profile_banner_url            2816 non-null   float64\n",
      " 14  profile_use_background_image  2816 non-null   float64\n",
      " 15  fake                          2816 non-null   float64\n",
      " 16  gender_code                   2816 non-null   float64\n",
      " 17  description_length            2816 non-null   float64\n",
      " 18  followers_to_friends_ratio    2816 non-null   float64\n",
      "dtypes: float64(19)\n",
      "memory usage: 418.1 KB\n"
     ]
    }
   ],
   "source": [
    "#import data\n",
    "data = pd.read_csv('numerical-users-fusers-7.csv')\n",
    "data.info()"
   ]
  },
  {
   "cell_type": "code",
   "execution_count": 3,
   "metadata": {},
   "outputs": [],
   "source": [
    "columns=data.columns\n",
    "fake = data['fake'] \n",
    "data.drop(columns= ['fake'], inplace=True)\n",
    "columns=data.columns"
   ]
  },
  {
   "cell_type": "code",
   "execution_count": 4,
   "metadata": {},
   "outputs": [
    {
     "data": {
      "text/html": [
       "<div>\n",
       "<style scoped>\n",
       "    .dataframe tbody tr th:only-of-type {\n",
       "        vertical-align: middle;\n",
       "    }\n",
       "\n",
       "    .dataframe tbody tr th {\n",
       "        vertical-align: top;\n",
       "    }\n",
       "\n",
       "    .dataframe thead th {\n",
       "        text-align: right;\n",
       "    }\n",
       "</style>\n",
       "<table border=\"1\" class=\"dataframe\">\n",
       "  <thead>\n",
       "    <tr style=\"text-align: right;\">\n",
       "      <th></th>\n",
       "      <th>id</th>\n",
       "      <th>statuses_count</th>\n",
       "      <th>followers_count</th>\n",
       "      <th>friends_count</th>\n",
       "      <th>favourites_count</th>\n",
       "      <th>listed_count</th>\n",
       "      <th>created_at</th>\n",
       "      <th>url</th>\n",
       "      <th>lang</th>\n",
       "      <th>time_zone</th>\n",
       "      <th>location</th>\n",
       "      <th>default_profile</th>\n",
       "      <th>geo_enabled</th>\n",
       "      <th>profile_banner_url</th>\n",
       "      <th>profile_use_background_image</th>\n",
       "      <th>gender_code</th>\n",
       "      <th>description_length</th>\n",
       "      <th>followers_to_friends_ratio</th>\n",
       "    </tr>\n",
       "  </thead>\n",
       "  <tbody>\n",
       "    <tr>\n",
       "      <th>0</th>\n",
       "      <td>3610511.0</td>\n",
       "      <td>20370.0</td>\n",
       "      <td>5470.0</td>\n",
       "      <td>2385.0</td>\n",
       "      <td>145.0</td>\n",
       "      <td>52.0</td>\n",
       "      <td>0.0</td>\n",
       "      <td>1.0</td>\n",
       "      <td>5.0</td>\n",
       "      <td>28.0</td>\n",
       "      <td>1005.0</td>\n",
       "      <td>0.0</td>\n",
       "      <td>0.0</td>\n",
       "      <td>1.0</td>\n",
       "      <td>1.0</td>\n",
       "      <td>2.0</td>\n",
       "      <td>151.0</td>\n",
       "      <td>2.293501</td>\n",
       "    </tr>\n",
       "    <tr>\n",
       "      <th>1</th>\n",
       "      <td>5656162.0</td>\n",
       "      <td>3131.0</td>\n",
       "      <td>506.0</td>\n",
       "      <td>381.0</td>\n",
       "      <td>9.0</td>\n",
       "      <td>40.0</td>\n",
       "      <td>322.0</td>\n",
       "      <td>1.0</td>\n",
       "      <td>1.0</td>\n",
       "      <td>28.0</td>\n",
       "      <td>1021.0</td>\n",
       "      <td>0.0</td>\n",
       "      <td>0.0</td>\n",
       "      <td>0.0</td>\n",
       "      <td>1.0</td>\n",
       "      <td>-2.0</td>\n",
       "      <td>104.0</td>\n",
       "      <td>1.328084</td>\n",
       "    </tr>\n",
       "    <tr>\n",
       "      <th>2</th>\n",
       "      <td>5682702.0</td>\n",
       "      <td>4024.0</td>\n",
       "      <td>264.0</td>\n",
       "      <td>87.0</td>\n",
       "      <td>323.0</td>\n",
       "      <td>16.0</td>\n",
       "      <td>2423.0</td>\n",
       "      <td>1.0</td>\n",
       "      <td>1.0</td>\n",
       "      <td>28.0</td>\n",
       "      <td>551.0</td>\n",
       "      <td>0.0</td>\n",
       "      <td>0.0</td>\n",
       "      <td>1.0</td>\n",
       "      <td>1.0</td>\n",
       "      <td>0.0</td>\n",
       "      <td>22.0</td>\n",
       "      <td>3.034483</td>\n",
       "    </tr>\n",
       "  </tbody>\n",
       "</table>\n",
       "</div>"
      ],
      "text/plain": [
       "          id  statuses_count  followers_count  friends_count  \\\n",
       "0  3610511.0         20370.0           5470.0         2385.0   \n",
       "1  5656162.0          3131.0            506.0          381.0   \n",
       "2  5682702.0          4024.0            264.0           87.0   \n",
       "\n",
       "   favourites_count  listed_count  created_at  url  lang  time_zone  location  \\\n",
       "0             145.0          52.0         0.0  1.0   5.0       28.0    1005.0   \n",
       "1               9.0          40.0       322.0  1.0   1.0       28.0    1021.0   \n",
       "2             323.0          16.0      2423.0  1.0   1.0       28.0     551.0   \n",
       "\n",
       "   default_profile  geo_enabled  profile_banner_url  \\\n",
       "0              0.0          0.0                 1.0   \n",
       "1              0.0          0.0                 0.0   \n",
       "2              0.0          0.0                 1.0   \n",
       "\n",
       "   profile_use_background_image  gender_code  description_length  \\\n",
       "0                           1.0          2.0               151.0   \n",
       "1                           1.0         -2.0               104.0   \n",
       "2                           1.0          0.0                22.0   \n",
       "\n",
       "   followers_to_friends_ratio  \n",
       "0                    2.293501  \n",
       "1                    1.328084  \n",
       "2                    3.034483  "
      ]
     },
     "execution_count": 4,
     "metadata": {},
     "output_type": "execute_result"
    }
   ],
   "source": [
    "data.head(3)"
   ]
  },
  {
   "cell_type": "markdown",
   "metadata": {},
   "source": [
    "# PCA"
   ]
  },
  {
   "cell_type": "markdown",
   "metadata": {},
   "source": [
    "https://medium.com/@dmitriy.kavyazin/principal-component-analysis-and-k-means-clustering-to-visualize-a-high-dimensional-dataset-577b2a7a5fe2"
   ]
  },
  {
   "cell_type": "code",
   "execution_count": 5,
   "metadata": {},
   "outputs": [
    {
     "data": {
      "image/png": "[encoded data removed]",
      "text/plain": [
       "<Figure size 432x288 with 1 Axes>"
      ]
     },
     "metadata": {
      "image/png": {
       "height": 266,
       "width": 395
      }
     },
     "output_type": "display_data"
    }
   ],
   "source": [
    "# Imports\n",
    "import pandas as pd\n",
    "import matplotlib.pyplot as plt\n",
    "from sklearn.cluster import KMeans\n",
    "from sklearn.decomposition import PCA\n",
    "from sklearn.preprocessing import StandardScaler\n",
    "%config InlineBackend.figure_format='retina'\n",
    "\"\"\"# Load in the data\n",
    "df = pd.read_csv('2013_2014_cleaned.csv')\"\"\"\n",
    "# Standardize the data to have a mean of ~0 and a variance of 1\n",
    "X_std = StandardScaler().fit_transform(data)\n",
    "# Create a PCA instance: pca\n",
    "pca = PCA(n_components=18)\n",
    "principalComponents = pca.fit_transform(X_std)\n",
    "# Plot the explained variances\n",
    "features = range(pca.n_components_)\n",
    "plt.bar(features, pca.explained_variance_ratio_, color='black')\n",
    "plt.xlabel('PCA features')\n",
    "plt.ylabel('variance %')\n",
    "plt.xticks(features)\n",
    "# Save components to a DataFrame\n",
    "PCA_components = pd.DataFrame(principalComponents)"
   ]
  },
  {
   "cell_type": "code",
   "execution_count": 6,
   "metadata": {},
   "outputs": [],
   "source": [
    "pca_data=PCA_components.iloc[:,:1]"
   ]
  },
  {
   "cell_type": "markdown",
   "metadata": {},
   "source": [
    "# data visualization"
   ]
  },
  {
   "cell_type": "code",
   "execution_count": 7,
   "metadata": {},
   "outputs": [],
   "source": [
    "#pca_data.columns=['PC1','PC2','PC3','PC4','PC5','PC6','PC7','PC8','PC9','PC10', 'PC11', 'PC12', 'PC13','PC14', 'PC15','PC16','PC17']\n",
    "pca_data.columns=['PC1']"
   ]
  },
  {
   "cell_type": "markdown",
   "metadata": {},
   "source": [
    "Iris Dataset Visualization and Machine Learning\n",
    "\n",
    "https://www.kaggle.com/xuhewen/iris-dataset-visualization-and-machine-learning"
   ]
  },
  {
   "cell_type": "code",
   "execution_count": 8,
   "metadata": {},
   "outputs": [
    {
     "data": {
      "text/plain": [
       "Text(0.5, 1.0, 'D1')"
      ]
     },
     "execution_count": 8,
     "metadata": {},
     "output_type": "execute_result"
    },
    {
     "data": {
      "image/png": "[encoded data removed]",
      "text/plain": [
       "<Figure size 432x288 with 1 Axes>"
      ]
     },
     "metadata": {
      "image/png": {
       "height": 281,
       "width": 386
      }
     },
     "output_type": "display_data"
    }
   ],
   "source": [
    "ax = pca_data[fake==0].plot.scatter(x='PC1', y='PC1', color='red', label='real')\n",
    "pca_data[fake==1].plot.scatter(x='PC1', y='PC1', color='blue', label='fake', ax=ax)\n",
    "ax.set_title(\"D1\")"
   ]
  },
  {
   "cell_type": "markdown",
   "metadata": {},
   "source": [
    "# Implementing Gaussian Mixture Clustering in Python"
   ]
  },
  {
   "cell_type": "markdown",
   "metadata": {},
   "source": [
    "https://jakevdp.github.io/PythonDataScienceHandbook/05.12-gaussian-mixtures.html\n",
    "\n",
    "https://scikit-learn.org/stable/modules/generated/sklearn.mixture.GaussianMixture.html"
   ]
  },
  {
   "cell_type": "code",
   "execution_count": 9,
   "metadata": {},
   "outputs": [],
   "source": [
    "from sklearn.mixture import GaussianMixture\n",
    "clustering = GaussianMixture(n_components=2).fit(pca_data)\n",
    "pred = clustering.predict(pca_data)"
   ]
  },
  {
   "cell_type": "code",
   "execution_count": 10,
   "metadata": {},
   "outputs": [],
   "source": [
    "labels_true=fake\n",
    "labels_pred=pred\n",
    "labels = pred\n",
    "X=pca_data\n",
    "y=fake"
   ]
  },
  {
   "cell_type": "code",
   "execution_count": 11,
   "metadata": {},
   "outputs": [
    {
     "data": {
      "text/plain": [
       "array([[  11, 1469],\n",
       "       [1175,  161]])"
      ]
     },
     "execution_count": 11,
     "metadata": {},
     "output_type": "execute_result"
    }
   ],
   "source": [
    "from sklearn.metrics.cluster import contingency_matrix\n",
    "contingency_matrix(labels_true, labels_pred)"
   ]
  },
  {
   "cell_type": "code",
   "execution_count": 12,
   "metadata": {
    "scrolled": true
   },
   "outputs": [
    {
     "name": "stdout",
     "output_type": "stream",
     "text": [
      "Adjusted Rand index: 0.7705104539815162\n",
      "Mutual Information based scores: 0.703839490735197\n",
      "Homogeneity: 0.6982316451071118\n",
      "Completeness: 0.709693993196746\n",
      "V-measure: 0.7039161599320973\n",
      "Fowlkes-Mallows scores: 0.8868307630390744\n",
      "Silhouette Coefficient: 0.5611193739643391\n"
     ]
    }
   ],
   "source": [
    "from sklearn import metrics\n",
    "from sklearn.metrics import pairwise_distances\n",
    "\n",
    "print(\"Adjusted Rand index:\", \n",
    "      metrics.adjusted_rand_score(labels_true, labels_pred))\n",
    "print(\"Mutual Information based scores:\", \n",
    "      metrics.adjusted_mutual_info_score(labels_true, labels_pred))\n",
    "print(\"Homogeneity:\", \n",
    "      metrics.homogeneity_score(labels_true, labels_pred))\n",
    "print(\"Completeness:\", \n",
    "      metrics.completeness_score(labels_true, labels_pred))\n",
    "print(\"V-measure:\",\n",
    "      metrics.v_measure_score(labels_true, labels_pred))\n",
    "print(\"Fowlkes-Mallows scores:\",\n",
    "      metrics.fowlkes_mallows_score(labels_true, labels_pred))\n",
    "\n",
    "print(\"Silhouette Coefficient:\",\n",
    "      metrics.silhouette_score(X, labels, metric='euclidean'))"
   ]
  },
  {
   "cell_type": "markdown",
   "metadata": {},
   "source": [
    "Functions to Plot KMeans, Hierarchical and DBSCAN Clustering\n",
    "\n",
    "https://medium.com/@plog397/functions-to-plot-kmeans-hierarchical-and-dbscan-clustering-c4146ed69744"
   ]
  },
  {
   "cell_type": "code",
   "execution_count": 13,
   "metadata": {},
   "outputs": [
    {
     "data": {
      "text/plain": [
       "Text(0.5, 1.0, 'Gaussian Mixture-D1')"
      ]
     },
     "execution_count": 13,
     "metadata": {},
     "output_type": "execute_result"
    },
    {
     "data": {
      "image/png": "[encoded data removed]",
      "text/plain": [
       "<Figure size 432x288 with 1 Axes>"
      ]
     },
     "metadata": {
      "image/png": {
       "height": 266,
       "width": 370
      }
     },
     "output_type": "display_data"
    }
   ],
   "source": [
    "plt.scatter(x=pca_data.PC1, y=pca_data.PC1,c=pred, cmap='bwr')\n",
    "plt.title(\"Gaussian Mixture-D1\")"
   ]
  },
  {
   "cell_type": "code",
   "execution_count": null,
   "metadata": {},
   "outputs": [],
   "source": []
  }
 ],
 "metadata": {
  "kernelspec": {
   "display_name": "Python 3",
   "language": "python",
   "name": "python3"
  },
  "language_info": {
   "codemirror_mode": {
    "name": "ipython",
    "version": 3
   },
   "file_extension": ".py",
   "mimetype": "text/x-python",
   "name": "python",
   "nbconvert_exporter": "python",
   "pygments_lexer": "ipython3",
   "version": "3.7.9"
  }
 },
 "nbformat": 4,
 "nbformat_minor": 4
}
